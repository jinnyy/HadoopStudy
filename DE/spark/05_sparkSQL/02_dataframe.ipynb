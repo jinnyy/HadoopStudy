{
 "cells": [
  {
   "cell_type": "markdown",
   "metadata": {},
   "source": [
    "# SparkSQL\n",
    "02_ 데이터프레임과 연산\n",
    "<div style=\"text-align: right\">\n",
    "2018.05.12 / 발제자 김연진\n",
    "</div>"
   ]
  },
  {
   "cell_type": "markdown",
   "metadata": {},
   "source": [
    "<br>\n",
    "### Reference\n",
    "- 빅데이터 분석을 위한 스파크2 프로그래밍, 백성민, 위키북스\n",
    "- Spark SQL, DataFrames and Datasets Guide, https://spark.apache.org/docs/latest/sql-programming-guide.html\n",
    "- Pyspark Package, http://spark.apache.org/docs/latest/api/python/pyspark.html"
   ]
  },
  {
   "cell_type": "markdown",
   "metadata": {},
   "source": [
    "<hr>\n",
    "### 순서\n",
    "- 데이터프레임 생성\n",
    "- 주요 연산\n",
    "    - 액션 연산\n",
    "    - 기본 연산\n",
    "    - 비타입 트랜스포메이션 연산\n",
    "    - (타입 트랜스포메이션 연산은 대이터프레임이 아닌 데이터셋인 경우에만 사용 가능)\n",
    "\n",
    "<hr>"
   ]
  },
  {
   "cell_type": "markdown",
   "metadata": {},
   "source": [
    "### 스파크 세션"
   ]
  },
  {
   "cell_type": "code",
   "execution_count": 2,
   "metadata": {},
   "outputs": [],
   "source": [
    "import collections\n",
    "\n",
    "from pyspark import StorageLevel\n",
    "from pyspark.sql import Row\n",
    "from pyspark.sql import SparkSession\n",
    "from pyspark.sql.functions import *\n",
    "from pyspark.sql import functions\n",
    "from pyspark.sql.types import *\n",
    "from pyspark.sql.window import Window\n",
    "import time\n",
    "\n",
    "#from word import Word\n",
    "\n",
    "spark = SparkSession \\\n",
    "    .builder \\\n",
    "    .appName(\"sample\") \\\n",
    "    .master(\"local[*]\") \\\n",
    "    .getOrCreate()\n",
    "\n",
    "sc = spark.sparkContext\n",
    "\n",
    "\n",
    "#    .config(\"spark.sql.warehouse.dir\", \"file:///Users/beginspark/Temp/\") \\\n",
    "#    .config(\"spark.driver.host\", \"127.0.0.1\") \\"
   ]
  },
  {
   "cell_type": "markdown",
   "metadata": {},
   "source": [
    "### 데이터프레임 생성"
   ]
  },
  {
   "cell_type": "code",
   "execution_count": 38,
   "metadata": {
    "collapsed": true
   },
   "outputs": [],
   "source": [
    "# createDataFrame\n",
    "def createDataFrame(spark, sc):\n",
    "    sparkHomeDir = \"file:/Users/beginspark/Apps/spark\"\n",
    "\n",
    "    # 1. 파일로 부터 생성\n",
    "    df1 = spark.read.json(sparkHomeDir + \"./resources/people.json\")\n",
    "    df2 = spark.read.parquet(sparkHomeDir + \"./resources/users.parquet\")\n",
    "    df3 = spark.read.text(sparkHomeDir + \"./resources/people.txt\")\n",
    "\n",
    "    # 2. 컬렉션으로부터 생성 (ex5-17)\n",
    "    row1 = Row(name=\"friendship\", age=27, job=\"student\")\n",
    "    row2 = Row(name=\"hyunwoo\", age=23, job=\"student\")\n",
    "    row3 = Row(name=\"sori\", age=50, job=\"professor\")\n",
    "    row4 = Row(name=\"jiyoung\", age=23, job=\"student\")\n",
    "    data = [row1, row2, row3, row4]\n",
    "    df4 = spark.createDataFrame(data)\n",
    "\n",
    "    # 3. RDD로부터 생성 (ex5-20)\n",
    "    rdd = spark.sparkContext.parallelize(data)\n",
    "    df5 = spark.createDataFrame(data)\n",
    "\n",
    "    # 4. 스키마 지정(ex5-23)\n",
    "    sf1 = StructField(\"name\", StringType(), True)\n",
    "    sf2 = StructField(\"age\", IntegerType(), True)\n",
    "    sf3 = StructField(\"job\", StringType(), True)\n",
    "    schema = StructType([sf1, sf2, sf3])\n",
    "    r1 = (\"friendship\", 72, \"student\")\n",
    "    r2 = (\"hyunwoo\", 3, \"student\")\n",
    "    r3 = (\"sori\", 55, \"professor\")\n",
    "    r4 = (\"jiyoung\", 23, \"student\")\n",
    "    rows = [r1, r2, r3, r4]\n",
    "    df6 = spark.createDataFrame(rows, schema)"
   ]
  },
  {
   "cell_type": "code",
   "execution_count": 44,
   "metadata": {},
   "outputs": [],
   "source": [
    "# 파이썬에서 데이터프레임 생성 시 네임드튜플(namedtuple), 튜플(tuple)\n",
    "# Row, 커스텀 클래스(class), 딕셔너리(dictionary) 등을\n",
    "# 사용하여 생성할 수 있다\n",
    "Person = collections.namedtuple('Person', 'name age job')\n",
    "\n",
    "# sample dataframe 1\n",
    "row1 = Person(name=\"friendship\", age=22, job=\"student\")\n",
    "row2 = Person(name=\"yoojung\", age=23, job=\"student\")\n",
    "row3 = Person(name=\"sound\", age=55, job=\"professor\")\n",
    "row4 = Person(name=\"hosun\", age=72, job=\"student\")\n",
    "data = [row1, row2, row3, row4]\n",
    "sample_df = spark.createDataFrame(data)\n",
    "\n",
    "d1 = (\"store2\", \"note\", 20, 2000)\n",
    "d2 = (\"store2\", \"bag\", 10, 5000)\n",
    "d3 = (\"store1\", \"note\", 15, 1000)\n",
    "d4 = (\"store1\", \"pen\", 20, 5000)\n",
    "sample_df2 = spark.createDataFrame([d1, d2, d3, d4]).toDF(\"store\", \"product\", \"amount\", \"price\")\n",
    "\n",
    "\n",
    "\n",
    "class Word:\n",
    "    def __init__(self, word, count):\n",
    "        self.word = word\n",
    "        self.count = count\n",
    "\n",
    "ldf = spark.createDataFrame([Word(\"w1\", 1), Word(\"w2\", 1)])\n",
    "rdf = spark.createDataFrame([Word(\"w1\", 1), Word(\"w3\", 1)])"
   ]
  },
  {
   "cell_type": "markdown",
   "metadata": {},
   "source": [
    "<br>\n",
    "### 주요 연산\n",
    "** 1) 액션 연산 **\n",
    "\n",
    "show()"
   ]
  },
  {
   "cell_type": "code",
   "execution_count": 45,
   "metadata": {},
   "outputs": [
    {
     "name": "stdout",
     "output_type": "stream",
     "text": [
      "+----------+---+---------+\n",
      "|      name|age|      job|\n",
      "+----------+---+---------+\n",
      "|friendship| 22|  student|\n",
      "|   yoojung| 23|  student|\n",
      "|     sound| 55|professor|\n",
      "|     hosun| 72|  student|\n",
      "+----------+---+---------+\n",
      "\n"
     ]
    }
   ],
   "source": [
    "# show\n",
    "# 데이터셋에 저장된 데이터를 화면에 출력\n",
    "sample_df.show()"
   ]
  },
  {
   "cell_type": "markdown",
   "metadata": {},
   "source": [
    "head(), first()"
   ]
  },
  {
   "cell_type": "code",
   "execution_count": 46,
   "metadata": {},
   "outputs": [
    {
     "data": {
      "text/plain": [
       "Row(name='friendship', age=22, job='student')"
      ]
     },
     "execution_count": 46,
     "metadata": {},
     "output_type": "execute_result"
    }
   ],
   "source": [
    "# head, first\n",
    "# 첫 번째 로우를 리턴\n",
    "sample_df.head()"
   ]
  },
  {
   "cell_type": "markdown",
   "metadata": {},
   "source": [
    "take()"
   ]
  },
  {
   "cell_type": "code",
   "execution_count": 47,
   "metadata": {},
   "outputs": [
    {
     "data": {
      "text/plain": [
       "[Row(name='friendship', age=22, job='student'),\n",
       " Row(name='yoojung', age=23, job='student'),\n",
       " Row(name='sound', age=55, job='professor')]"
      ]
     },
     "execution_count": 47,
     "metadata": {},
     "output_type": "execute_result"
    }
   ],
   "source": [
    "# take(n)\n",
    "# 첫 n개를 보여줌\n",
    "sample_df.take(3)"
   ]
  },
  {
   "cell_type": "markdown",
   "metadata": {},
   "source": [
    "count()"
   ]
  },
  {
   "cell_type": "code",
   "execution_count": 48,
   "metadata": {},
   "outputs": [
    {
     "data": {
      "text/plain": [
       "4"
      ]
     },
     "execution_count": 48,
     "metadata": {},
     "output_type": "execute_result"
    }
   ],
   "source": [
    "# count\n",
    "# RDD의 count()연산과 동일, 로우의 개수를 리턴\n",
    "sample_df.count()"
   ]
  },
  {
   "cell_type": "markdown",
   "metadata": {},
   "source": [
    "collect()"
   ]
  },
  {
   "cell_type": "code",
   "execution_count": 49,
   "metadata": {},
   "outputs": [
    {
     "data": {
      "text/plain": [
       "[0, 1, 2, 3, 4]"
      ]
     },
     "execution_count": 49,
     "metadata": {},
     "output_type": "execute_result"
    }
   ],
   "source": [
    "# collect\n",
    "# 데이터셋에 있는 데이터를 로컬 컬렉션(배열) 형태로 리턴\n",
    "# 메모리 부족 에러가 발생하지 않도록 주의!\n",
    "sc.range(5).collect()"
   ]
  },
  {
   "cell_type": "code",
   "execution_count": 50,
   "metadata": {},
   "outputs": [
    {
     "data": {
      "text/plain": [
       "['A bad penny always turns up',\n",
       " 'A barking dog never bites',\n",
       " 'A bird in the hand is worth two in the bush',\n",
       " 'A cat may look at a king',\n",
       " 'A chain is only as strong as its weakest link',\n",
       " 'A change is as good as a rest',\n",
       " \"A dog is a man's best friend\",\n",
       " 'A drowning man will clutch at a straw',\n",
       " 'A fish always rots from the head down',\n",
       " 'A fool and his money are soon parted',\n",
       " 'A friend in need is a friend indeed',\n",
       " 'A golden key can open any door',\n",
       " 'A good beginning makes a good ending',\n",
       " 'A good man is hard to find',\n",
       " 'A house divided against itself cannot stand',\n",
       " 'A person is known by the company he keeps',\n",
       " 'A house is not a home',\n",
       " 'A journey of a thousand miles begins with a single step',\n",
       " 'A leopard cannot change its spots',\n",
       " 'A little knowledge is a dangerous thing',\n",
       " 'A little learning is a dangerous thing',\n",
       " 'A little of what you fancy does you good',\n",
       " 'A man is known by his friends',\n",
       " 'A man who is his own lawyer has a fool for his client',\n",
       " 'A miss is as good as a mile',\n",
       " 'A new broom sweeps clean',\n",
       " \"A nod's as good as a wink to a blind horse\",\n",
       " 'A penny saved is a penny earned',\n",
       " 'A picture paints a thousand words',\n",
       " 'A place for everything and everything in its place',\n",
       " 'A poor workman always blames his tools',\n",
       " 'A person is known by the company he keeps',\n",
       " 'A problem shared is a problem halved',\n",
       " 'A prophet is not recognized in his own land',\n",
       " 'A rising tide lifts all boats',\n",
       " 'A rolling stone gathers no moss',\n",
       " 'A soft answer turneth away wrath',\n",
       " 'A stitch in time saves nine',\n",
       " 'A swarm in May is worth a load of hay; a swarm in June is worth a silver spoon; but a swarm in July is not worth a fly',\n",
       " 'A thing of beauty is a joy forever',\n",
       " 'A trouble shared is a trouble halved',\n",
       " 'A volunteer is worth twenty pressed men',\n",
       " 'A watched pot never boils',\n",
       " 'A woman is only a woman, but a good cigar is a smoke',\n",
       " \"A woman's place is in the home\",\n",
       " \"A woman's work is never done\",\n",
       " 'A word to the wise is enough',\n",
       " 'Absence makes the heart grow fonder',\n",
       " 'Absolute power corrupts absolutely',\n",
       " 'Accidents will happen (in the best-regulated families).',\n",
       " 'Actions speak louder than words',\n",
       " 'Adversity makes strange bedfellows',\n",
       " 'After a storm comes a calm',\n",
       " 'All good things come to he who waits',\n",
       " 'All good things must come to an end',\n",
       " 'All is grist that comes to the mill',\n",
       " 'All publicity is good publicity',\n",
       " 'All roads lead to Rome',\n",
       " 'All that glisters is not gold',\n",
       " 'All that glitters is not gold',\n",
       " 'All the world loves a lover',\n",
       " 'All things come to those who wait',\n",
       " 'All things must pass',\n",
       " 'All work and no play makes Jack a dull boy',\n",
       " 'All you need is love',\n",
       " \"All's fair in love and war\",\n",
       " \"All's for the best in the best of all possible worlds\",\n",
       " \"All's well that ends well\",\n",
       " 'A miss is as good as a mile',\n",
       " 'An apple a day keeps the doctor away',\n",
       " 'An army marches on its stomach',\n",
       " \"An Englishman's home is his castle\",\n",
       " 'An eye for an eye, a tooth for a tooth',\n",
       " 'An ounce of prevention is worth a pound of cure',\n",
       " 'Another day, another dollar',\n",
       " 'Any port in a storm',\n",
       " 'Appearances can be deceptive',\n",
       " 'April is the cruellest month',\n",
       " 'April showers bring forth May flowers',\n",
       " 'As thick as thieves',\n",
       " 'As you make your bed, so you must lie upon it',\n",
       " 'As you sow so shall you reap',\n",
       " 'Ashes to ashes dust to dust',\n",
       " \"Ask a silly question and you'll get a silly answer\",\n",
       " 'Ask no questions and hear no lies',\n",
       " 'Attack is the best form of defence',\n",
       " 'Bad money drives out good',\n",
       " 'Bad news travels fast',\n",
       " 'Barking dogs seldom bite',\n",
       " 'Be careful what you wish for',\n",
       " 'Beat swords into ploughshares',\n",
       " 'Beauty is in the eye of the beholder',\n",
       " 'Beauty is only skin deep',\n",
       " 'Beggars should not be choosers',\n",
       " \"Behind every great man there's a great woman\",\n",
       " 'Better late than never',\n",
       " 'Better safe than sorry',\n",
       " \"Better the Devil you know than the Devil you don't\",\n",
       " 'Better to have loved and lost than never to have loved at all',\n",
       " 'Better to light a candle than to curse the darkness',\n",
       " 'Better to remain silent and be thought a fool that to speak and remove all doubt',\n",
       " 'Beware of Greeks bearing gifts',\n",
       " 'Beware the Ides of March',\n",
       " 'Big fish eat little fish',\n",
       " 'Birds of a feather flock together',\n",
       " 'Blessed are the peacemakers',\n",
       " 'Blood is thicker than water',\n",
       " 'Blue are the hills that are far away',\n",
       " 'Boys will be boys',\n",
       " 'Brevity is the soul of wit',\n",
       " 'Business before pleasure',\n",
       " \"Caesar's wife must be above suspicion\",\n",
       " 'Carpe diem (Pluck the day; Seize the day)',\n",
       " 'Charity begins at home',\n",
       " 'Charity covers a multitude of sins',\n",
       " 'Cheaters never win and winners never cheat',\n",
       " 'Cheats never prosper',\n",
       " 'Children and fools tell the truth',\n",
       " 'Children should be seen and not heard',\n",
       " 'Christmas comes but once a year',\n",
       " 'Cleanliness is next to godliness',\n",
       " 'Clothes maketh the man',\n",
       " 'Cold hands, warm heart',\n",
       " 'Comparisons are odious',\n",
       " 'Count your blessings',\n",
       " 'Cowards may die many times before their death',\n",
       " \"Crime doesn't pay\",\n",
       " 'Cut your coat to suit your cloth',\n",
       " 'Dead men tell no tales',\n",
       " 'Devil take the hindmost',\n",
       " 'Discretion is the better part of valour',\n",
       " 'Distance lends enchantment to the view',\n",
       " 'Do as I say, not as I do',\n",
       " 'Do as you would be done by',\n",
       " 'Do unto others as you would have them do to you',\n",
       " \"Don't bite the hand that feeds you\",\n",
       " \"Don't burn your bridges behind you\",\n",
       " \"Don't cast your pearls before swine\",\n",
       " \"Don't change horses in midstream\",\n",
       " \"Don't count your chickens before they are hatched\",\n",
       " \"Don't cross the bridge till you come to it\",\n",
       " \"Don't cut off your nose to spite your face\",\n",
       " \"Don't get mad, get even\",\n",
       " \"Don't keep a dog and bark yourself\",\n",
       " \"Don't leave your manners on the doorstep\",\n",
       " \"Don't let the bastards grind you down\",\n",
       " \"Don't let the cat out of the bag\",\n",
       " \"Don't let the grass grow under your feet\",\n",
       " \"Don't meet troubles half-way\",\n",
       " \"Don't mix business with pleasure\",\n",
       " \"Don't put all your eggs in one basket\",\n",
       " \"Don't put the cart before the horse\",\n",
       " \"Don't put new wine into old bottles\",\n",
       " \"Don't rock the boat\",\n",
       " \"Don't shoot the messenger\",\n",
       " \"Don't spoil the ship for a ha'porth of tar\",\n",
       " \"Don't sweat the small stuff\",\n",
       " \"Don't throw pearls to swine\",\n",
       " \"Don't teach your Grandma to suck eggs\",\n",
       " \"Don't throw the baby out with the bathwater\",\n",
       " \"Don't trust anyone over thirty\",\n",
       " \"Don't try to run before you can walk\",\n",
       " \"Don't try to walk before you can crawl\",\n",
       " \"Don't upset the apple-cart\",\n",
       " \"Don't wash your dirty linen in public\",\n",
       " 'Doubt is the beginning not the end of wisdom',\n",
       " 'Early to bed and early to rise, makes a man healthy, wealthy and wise',\n",
       " 'East is east, and west is west',\n",
       " \"East, west, home's best\",\n",
       " 'Easy come, easy go',\n",
       " 'Eat, drink and be merry, for tomorrow we die',\n",
       " 'Empty vessels make the most noise',\n",
       " 'Enough is as good as a feast',\n",
       " 'Enough is enough',\n",
       " 'Even a worm will turn',\n",
       " 'Every cloud has a silver lining',\n",
       " 'Every dog has its day',\n",
       " 'Every little helps',\n",
       " 'Every man for himself, and the Devil take the hindmost',\n",
       " 'Every man has his price',\n",
       " 'Every picture tells a story',\n",
       " 'Every stick has two ends',\n",
       " 'Everyone wants to go to heaven but nobody wants to die',\n",
       " 'Everything comes to him who waits',\n",
       " 'Failing to plan is planning to fail',\n",
       " 'Faint heart never won fair lady',\n",
       " 'Fair exchange is no robbery',\n",
       " 'Faith will move mountains',\n",
       " 'Familiarity breeds contempt',\n",
       " 'Feed a cold and starve a fever',\n",
       " 'Fight fire with fire',\n",
       " 'Fight the good fight',\n",
       " 'Finders keepers, losers weepers',\n",
       " 'Fine words butter no parsnips',\n",
       " 'First come, first served',\n",
       " 'First impressions are the most lasting',\n",
       " 'First things first',\n",
       " 'Fish always stink from the head down',\n",
       " 'Fish and guests smell after three days',\n",
       " 'Flattery will get you nowhere',\n",
       " 'Fools rush in where angels fear to tread',\n",
       " 'For everything there is a season',\n",
       " 'For want of a nail the shoe was lost; for want of a shoe the horse was lost; and for want of a horse the man was lost',\n",
       " 'Forewarned is forearmed',\n",
       " 'Forgive and forget',\n",
       " 'Fortune favours the brave',\n",
       " 'From the sublime to the ridiculous is only one step',\n",
       " 'Genius is an infinite capacity for taking pains',\n",
       " 'Genius is one percent inspiration, ninety-nine percent perspiration',\n",
       " 'Give a man a fish and you will feed him for a day...',\n",
       " 'Give a dog a bad name and hang him',\n",
       " 'Give a man enough rope and he will hang himself',\n",
       " 'Give credit where credit is due',\n",
       " 'Give the Devil his due',\n",
       " 'Go the extra mile',\n",
       " 'God helps those who help themselves',\n",
       " 'Good fences make good neighbours',\n",
       " 'Good talk saves the food',\n",
       " 'Good things come in small packages',\n",
       " 'Good things come to those who wait',\n",
       " 'Great minds think alike',\n",
       " 'Half a loaf is better than no bread',\n",
       " 'Handsome is as handsome does',\n",
       " 'Hard cases make bad law',\n",
       " 'Hard work never did anyone any harm',\n",
       " 'Haste makes waste',\n",
       " 'He that goes a-borrowing, goes a-sorrowing',\n",
       " 'He who can does, he who cannot, teaches',\n",
       " 'He who fights and runs away, may live to fight another day',\n",
       " 'He who hesitates is lost',\n",
       " 'He who laughs last laughs longest',\n",
       " 'He who lives by the sword shall die by the sword',\n",
       " 'He who pays the piper calls the tune',\n",
       " 'He who sups with the Devil should have a long spoon',\n",
       " 'Hell hath no fury like a woman scorned',\n",
       " 'Hindsight is always twenty-twenty',\n",
       " 'History repeats itself',\n",
       " 'Home is where the heart is',\n",
       " 'Honesty is the best policy',\n",
       " 'Hope springs eternal',\n",
       " 'Horses for courses',\n",
       " 'If anything can go wrong, it will',\n",
       " 'If a job is worth doing it is worth doing well',\n",
       " \"If at first you don't succeed try, try and try again\",\n",
       " \"If God had meant us to fly he'd have given us wings\",\n",
       " \"If ifs and ands were pots and pans there'd be no work for tinkers\",\n",
       " \"If it ain't broke, don't fix it\",\n",
       " 'If life deals you lemons, make lemonade',\n",
       " 'If the cap fits, wear it',\n",
       " \"If the mountain won't come to Mohammed, then Mohammed must go to the mountain\",\n",
       " 'If the shoe fits, wear it',\n",
       " 'If wishes were horses, beggars would ride',\n",
       " 'If you build it they will come',\n",
       " \"If you can't be good, be careful\",\n",
       " \"If you can't beat em, join em\",\n",
       " \"If you can't stand the heat get out of the kitchen\",\n",
       " 'If you lie down with dogs, you will get up with fleas',\n",
       " 'If you pay peanuts, you get monkeys',\n",
       " 'If you want a thing done well, do it yourself',\n",
       " 'Ignorance is bliss',\n",
       " 'Imitation is the sincerest form of flattery',\n",
       " 'In for a penny, in for a pound',\n",
       " 'In the kingdom of the blind the one eyed man is king',\n",
       " 'In the midst of life we are in death',\n",
       " 'Into every life a little rain must fall',\n",
       " \"It ain't over till the fat lady sings\",\n",
       " 'It goes without saying',\n",
       " 'It is best to be on the safe side',\n",
       " 'It is better to give than to receive',\n",
       " 'It is easy to be wise after the event',\n",
       " 'It never rains but it pours',\n",
       " 'It takes a thief to catch a thief',\n",
       " 'It takes all sorts to make a world',\n",
       " 'It takes one to know one',\n",
       " 'It takes two to tango',\n",
       " \"It's all grist to the mill\",\n",
       " \"It's an ill wind that blows no one any good\",\n",
       " \"It's better to give than to receive\",\n",
       " \"It's better to have loved and lost than never to have loved at all\",\n",
       " \"It's better to light a candle than curse the darkness\",\n",
       " \"It's better to travel hopefully than to arrive\",\n",
       " \"It's never too late\",\n",
       " \"It's no use crying over spilt milk\",\n",
       " \"It's no use locking the stable door after the horse has bolted\",\n",
       " \"It's the early bird that catches the worm\",\n",
       " \"It's the empty can that makes the most noise\",\n",
       " \"It's the singer not the song\",\n",
       " \"It's the squeaky wheel that gets the grease\",\n",
       " 'Jack of all trades, master of none',\n",
       " 'Judge not, that ye be not judged',\n",
       " 'Keep your chin up',\n",
       " 'Keep your friends close and your enemies closer',\n",
       " 'Keep your powder dry',\n",
       " 'Laugh and the world laughs with you, weep and you weep alone',\n",
       " 'Laughter is the best medicine',\n",
       " 'Least said, soonest mended',\n",
       " 'Less is more',\n",
       " 'Let bygones be bygones',\n",
       " 'Let not the sun go down on your wrath',\n",
       " 'Let sleeping dogs lie',\n",
       " 'Let the buyer beware',\n",
       " 'Let the dead bury the dead',\n",
       " 'Let the punishment fit the crime',\n",
       " 'Let well alone',\n",
       " 'Life begins at forty',\n",
       " 'Life is just a bowl of cherries',\n",
       " 'Life is what you make it',\n",
       " \"Life's not all beer and skittles\",\n",
       " 'Lightning never strikes twice in the same place',\n",
       " 'Like father, like son',\n",
       " 'Little pitchers have big ears',\n",
       " 'Little strokes fell great oaks',\n",
       " 'Little things please little minds',\n",
       " 'Live and learn',\n",
       " 'Live for today for tomorrow never comes',\n",
       " 'Look before you leap',\n",
       " 'Love of money is the root of all evil',\n",
       " 'Love is blind',\n",
       " 'Love makes the world go round',\n",
       " 'Love thy neighbour as thyself',\n",
       " 'Love will find a way',\n",
       " 'Make hay while the sun shines',\n",
       " 'Make love not war',\n",
       " 'Man does not live by bread alone',\n",
       " 'Manners maketh man',\n",
       " 'Many a little makes a mickle',\n",
       " 'Many a mickle makes a muckle',\n",
       " 'Many a true word is spoken in jest',\n",
       " 'Many are called but few are chosen',\n",
       " 'Many hands make light work',\n",
       " 'March comes in like a lion, and goes out like a lamb',\n",
       " 'March winds and April showers bring forth May flowers',\n",
       " 'Marriages are made in heaven',\n",
       " 'Marry in haste, repent at leisure',\n",
       " 'Might is right',\n",
       " 'Mighty oaks from little acorns grow',\n",
       " 'Misery loves company',\n",
       " 'Moderation in all things',\n",
       " \"Monday's child is fair of face, \",\n",
       " \"Tuesday's child is full of grace,\",\n",
       " \"Wednesday's child is full of woe,\",\n",
       " \"Thursday's child has far to go,\",\n",
       " \"Friday's child is loving and giving,\",\n",
       " \"Saturday's child works hard for its living,\",\n",
       " \"And a child that's born on the Sabbath day\",\n",
       " 'Is fair and wise and good and gay.',\n",
       " \"Money doesn't grow on trees\",\n",
       " 'Money is the root of all evil',\n",
       " \"Money isn't everything\",\n",
       " 'Money makes the world go round',\n",
       " 'Money talks',\n",
       " 'More haste, less speed',\n",
       " 'Music has charms to soothe the savage breast',\n",
       " 'Nature abhors a vacuum',\n",
       " 'Necessity is the mother of invention',\n",
       " 'Needs must when the devil drives',\n",
       " \"Ne'er cast a clout till May be out\",\n",
       " 'Never give a sucker an even break',\n",
       " 'Never go to bed on an argument',\n",
       " 'Never judge a book by its cover',\n",
       " 'Never let the sun go down on your anger',\n",
       " 'Never look a gift horse in the mouth',\n",
       " 'Never put off until tomorrow what you can do today',\n",
       " 'Never speak ill of the dead',\n",
       " 'Never tell tales out of school',\n",
       " 'Nine tailors make a man',\n",
       " 'No man can serve two masters',\n",
       " 'No man is an island',\n",
       " 'No names, no pack-drill',\n",
       " 'No news is good news',\n",
       " 'No one can make you feel inferior without your consent',\n",
       " 'No pain, no gain',\n",
       " 'No rest for the wicked',\n",
       " 'Nothing new under the sun',\n",
       " 'Nothing is certain but death and taxes',\n",
       " 'Nothing succeeds like success',\n",
       " 'Nothing ventured, nothing gained',\n",
       " \"Oil and water don't mix\",\n",
       " 'Old soldiers never die, they just fade away',\n",
       " 'Once a thief, always a thief',\n",
       " 'Once bitten, twice shy',\n",
       " 'One good turn deserves another',\n",
       " 'One half of the world does not know how the other half lives',\n",
       " 'One hand washes the other',\n",
       " \"One man's meat is another man's poison\",\n",
       " 'One might as well be hanged for a sheep as a lamb',\n",
       " 'One law for the rich and another for the poor',\n",
       " 'One swallow does not make a summer',\n",
       " 'One volunteer is worth ten pressed men',\n",
       " \"One year's seeding makes seven years weeding\",\n",
       " 'Only fools and horses work',\n",
       " \"Opportunity never knocks twice at any man's door\",\n",
       " 'Opposites attract',\n",
       " 'Out of sight, out of mind',\n",
       " 'Parsley seed goes nine times to the Devil',\n",
       " 'Patience is a virtue',\n",
       " 'Pearls of wisdom',\n",
       " 'Penny wise and pound foolish',\n",
       " \"People who live in glass houses shouldn't throw stones\",\n",
       " 'Physician, heal thyself',\n",
       " 'Possession is nine points of the law',\n",
       " 'Power corrupts; absolute power corrupts absolutely',\n",
       " 'Practice makes perfect',\n",
       " 'Practice what you preach',\n",
       " 'Prevention is better than cure',\n",
       " 'Pride goes before a fall',\n",
       " 'Procrastination is the thief of time',\n",
       " 'Put your best foot forward',\n",
       " 'Rain before seven, fine before eleven',\n",
       " \"Red sky at night shepherd's delight; red sky in the morning, shepherd's warning\",\n",
       " 'Revenge is a dish best served cold',\n",
       " 'Revenge is sweet',\n",
       " 'Rob Peter to pay Paul',\n",
       " \"Rome wasn't built in a day\",\n",
       " \"See a pin and pick it up, all the day you'll have good luck; see a pin and let it lie, bad luck you'll have all day\",\n",
       " 'See no evil, hear no evil, speak no evil',\n",
       " 'Seeing is believing',\n",
       " 'Seek and ye shall find',\n",
       " 'Set a thief to catch a thief',\n",
       " 'Share and share alike',\n",
       " 'Shrouds have no pockets',\n",
       " 'Silence is golden',\n",
       " 'Slow but sure',\n",
       " 'Softly, softly, catchee monkey',\n",
       " 'Spare the rod and spoil the child',\n",
       " 'Speak as you find',\n",
       " 'Speak softly and carry a big stick',\n",
       " 'Sticks and stones may break my bones, but words will never hurt me',\n",
       " 'Still waters run deep',\n",
       " 'Strike while the iron is hot',\n",
       " 'Stupid is as stupid does',\n",
       " 'Success has many fathers, while failure is an orphan',\n",
       " 'Take care of the pence and the pounds will take care of themselves',\n",
       " 'Talk is cheap',\n",
       " 'Talk of the Devil, and he is bound to appear',\n",
       " 'Tell the truth and shame the Devil',\n",
       " 'That which does not kill us makes us stronger',\n",
       " 'The age of miracles is past',\n",
       " 'The apple never falls far from the tree',\n",
       " 'The best defence is a good offence',\n",
       " 'The best is the enemy of the good',\n",
       " 'The best-laid schemes of mice and men gang aft agley',\n",
       " 'The best things in life are free',\n",
       " 'The bigger, the better',\n",
       " 'The bigger they are, the harder they fall',\n",
       " 'The bottom line is the bottom line',\n",
       " 'The boy is father to the man',\n",
       " 'The bread always falls buttered side down',\n",
       " 'The child is the father of the man',\n",
       " 'The cobbler always wears the worst shoes',\n",
       " 'The course of true love never did run smooth',\n",
       " 'The customer is always right',\n",
       " 'The darkest hour is just before the dawn',\n",
       " 'The Devil finds work for idle hands to do',\n",
       " 'The Devil is in the details',\n",
       " 'The Devil looks after his own',\n",
       " 'The early bird catches the worm',\n",
       " 'The end justifies the means',\n",
       " 'The exception which proves the rule',\n",
       " 'The female of the species is more deadly than the male',\n",
       " 'The fruit does not fall far from the tree',\n",
       " 'The good die young',\n",
       " 'The grass is always greener on the other side of the fence',\n",
       " 'The hand that rocks the cradle rules the world',\n",
       " 'The husband is always the last to know',\n",
       " 'The labourer is worthy of his hire',\n",
       " 'The law is an ass',\n",
       " 'The leopard does not change his spots',\n",
       " 'The longest journey starts with a single step',\n",
       " 'The more the merrier',\n",
       " 'The more things change, the more they stay the same',\n",
       " 'The only good Indian is a dead Indian',\n",
       " \"The opera ain't over till the fat lady sings\",\n",
       " 'The pen is mightier than sword',\n",
       " 'The price of liberty is eternal vigilance',\n",
       " 'The proof of the pudding is in the eating',\n",
       " 'The road to hell is paved with good intentions',\n",
       " \"The shoemaker's son always goes barefoot\",\n",
       " 'The squeaking wheel gets the grease',\n",
       " 'The truth will out',\n",
       " 'The wages of sin is death',\n",
       " \"The way to a man's heart is through his stomach\",\n",
       " 'The whole is greater than the sum of the parts',\n",
       " 'There are more ways of killing a cat than choking it with cream',\n",
       " 'There are none so blind as those, that will not see',\n",
       " 'There are two sides to every question',\n",
       " 'There but for the grace of God, go I',\n",
       " \"There's a time and a place for everything\",\n",
       " \"There's an exception to every rule\",\n",
       " \"There's always more fish in the sea\",\n",
       " \"There's honour among thieves\",\n",
       " \"There's many a good tune played on an old fiddle\",\n",
       " \"There's many a slip 'twixt cup and lip\",\n",
       " \"There's more than one way to skin a cat\",\n",
       " \"There's no accounting for tastes\",\n",
       " \"There's no fool like an old fool\",\n",
       " \"There's no place like home\",\n",
       " \"There's no smoke without fire\",\n",
       " \"There's no such thing as a free lunch\",\n",
       " \"There's no such thing as bad publicity\",\n",
       " \"There's no time like the present\",\n",
       " \"There's none so blind as those who will not see\",\n",
       " \"There's none so deaf as those who will not hear\",\n",
       " \"There's nowt so queer as folk\",\n",
       " \"There's one born every minute\",\n",
       " \"There's safety in numbers\",\n",
       " 'They that sow the wind, shall reap the whirlwind',\n",
       " 'Third time lucky',\n",
       " 'Those who do not learn from history are doomed to repeat it',\n",
       " \"Those who live in glass houses shouldn't throw stones\",\n",
       " 'Those who sleep with dogs will rise with fleas',\n",
       " 'Thou shalt not kill',\n",
       " 'Time and tide wait for no man',\n",
       " 'Time flies',\n",
       " 'Time is a great healer',\n",
       " 'Time is money',\n",
       " 'Time will tell',\n",
       " \"'tis better to have loved and lost, than never to have loved at all\",\n",
       " 'To err is human; to forgive divine',\n",
       " 'To every thing there is a season',\n",
       " 'To the victor go the spoils',\n",
       " 'To travel hopefully is a better thing than to arrive',\n",
       " 'Tomorrow is another day',\n",
       " 'Tomorrow never comes',\n",
       " 'Too many cooks spoil the broth',\n",
       " 'Truth is stranger than fiction',\n",
       " 'Truth will out',\n",
       " \"Two blacks don't make a white\",\n",
       " 'Two heads are better than one',\n",
       " \"Two is company, but three's a crowd\",\n",
       " \"Two wrongs don't make a right\",\n",
       " 'Variety is the spice of life',\n",
       " 'Virtue is its own reward',\n",
       " 'Walls have ears',\n",
       " 'Walnuts and pears you plant for your heirs',\n",
       " 'Waste not want not',\n",
       " \"What can't be cured must be endured\",\n",
       " 'What goes up must come down',\n",
       " 'What you lose on the swings you gain on the roundabouts',\n",
       " \"What's sauce for the goose is sauce for the gander\",\n",
       " 'When in Rome, do as the Romans do',\n",
       " \"When the cat's away the mice will play\",\n",
       " 'When the going gets tough, the tough get going',\n",
       " 'When the oak is before the ash, then you will only get a splash; when the ash is before the oak, then you may expect a soak',\n",
       " \"What the eye doesn't see, the heart doesn't grieve over\",\n",
       " \"Where there's a will there's a way\",\n",
       " \"Where there's muck there's brass\",\n",
       " \"While there's life there's hope\",\n",
       " 'Whom the Gods love die young',\n",
       " 'Why keep a dog and bark yourself?',\n",
       " 'Women and children first',\n",
       " 'Wonders will never cease',\n",
       " 'Work expands so as to fill the time available',\n",
       " 'Worrying never did anyone any good',\n",
       " 'You are never too old to learn',\n",
       " 'You are what you eat',\n",
       " \"You can choose your friends but you can't choose your family\",\n",
       " 'You can have too much of a good thing',\n",
       " \"You can lead a horse to water, but you can't make it drink\",\n",
       " \"You can't have your cake and eat it\",\n",
       " \"You can't get blood out of a stone\",\n",
       " \"You can't make a silk purse from a sow's ear\",\n",
       " \"You can't make an omelette without breaking eggs\",\n",
       " \"You can't make bricks without straw\",\n",
       " \"You can't run with the hare and hunt with the hounds\",\n",
       " \"You can't take it with you [when you die]\",\n",
       " \"You can't teach an old dog new tricks\",\n",
       " \"You can't judge a book by its cover\",\n",
       " \"You can't win them all\",\n",
       " 'You catch more flies with honey than with vinegar',\n",
       " 'You pays your money and you takes your choice',\n",
       " 'You reap what you sow',\n",
       " 'You win some, you lose some',\n",
       " 'Youth is wasted on the young']"
      ]
     },
     "execution_count": 50,
     "metadata": {},
     "output_type": "execute_result"
    }
   ],
   "source": [
    "source = \"file:///home/ubuntu/data/2018-1/chapter05/spark05_sparkSQL/resources/countMe.txt\"\n",
    "df = sc.textFile(source)\n",
    "df.collect()"
   ]
  },
  {
   "cell_type": "markdown",
   "metadata": {},
   "source": [
    "describe()"
   ]
  },
  {
   "cell_type": "code",
   "execution_count": 51,
   "metadata": {},
   "outputs": [
    {
     "name": "stdout",
     "output_type": "stream",
     "text": [
      "+-------+-----------------+\n",
      "|summary|              age|\n",
      "+-------+-----------------+\n",
      "|  count|                4|\n",
      "|   mean|             43.0|\n",
      "| stddev|24.67117075995111|\n",
      "|    min|               22|\n",
      "|    max|               72|\n",
      "+-------+-----------------+\n",
      "\n"
     ]
    }
   ],
   "source": [
    "# describe\n",
    "sample_df.describe(\"age\").show()"
   ]
  },
  {
   "cell_type": "code",
   "execution_count": 15,
   "metadata": {},
   "outputs": [
    {
     "name": "stdout",
     "output_type": "stream",
     "text": [
      "+-------+--------------+\n",
      "|summary|           job|\n",
      "+-------+--------------+\n",
      "|  count|             4|\n",
      "|   mean|          null|\n",
      "| stddev|          null|\n",
      "|    min|kindergartener|\n",
      "|    max|       student|\n",
      "+-------+--------------+\n",
      "\n"
     ]
    }
   ],
   "source": [
    "sample_df.describe(\"job\").show()"
   ]
  },
  {
   "cell_type": "markdown",
   "metadata": {},
   "source": [
    "<br><br>\n",
    "** 2) 기본 연산 **\n",
    "\n",
    "cache(), persist()"
   ]
  },
  {
   "cell_type": "code",
   "execution_count": 16,
   "metadata": {},
   "outputs": [
    {
     "data": {
      "text/plain": [
       "DataFrame[name: string, age: bigint, job: string]"
      ]
     },
     "execution_count": 16,
     "metadata": {},
     "output_type": "execute_result"
    }
   ],
   "source": [
    "# cache는 persist와 동일한 기능 제공\n",
    "# 작업중인 데이터를 메모리에 저장\n",
    "\n",
    "from pyspark import StorageLevel\n",
    "\n",
    "sample_df.persist(StorageLevel.MEMORY_AND_DISK_2)"
   ]
  },
  {
   "cell_type": "markdown",
   "metadata": {},
   "source": [
    "printSchema(), columns, dtypes, schema"
   ]
  },
  {
   "cell_type": "code",
   "execution_count": 17,
   "metadata": {},
   "outputs": [
    {
     "name": "stdout",
     "output_type": "stream",
     "text": [
      "root\n",
      " |-- name: string (nullable = true)\n",
      " |-- age: long (nullable = true)\n",
      " |-- job: string (nullable = true)\n",
      "\n"
     ]
    }
   ],
   "source": [
    "# printSchema(), columns, dtypes, schema\n",
    "# 스키마 정보를 조회하는 메서드와 리스트들\n",
    "\n",
    "sample_df.printSchema()"
   ]
  },
  {
   "cell_type": "code",
   "execution_count": 18,
   "metadata": {},
   "outputs": [
    {
     "data": {
      "text/plain": [
       "['name', 'age', 'job']"
      ]
     },
     "execution_count": 18,
     "metadata": {},
     "output_type": "execute_result"
    }
   ],
   "source": [
    "# 메서드가 아닙니다. 리스트를 반환합니다.\n",
    "sample_df.columns"
   ]
  },
  {
   "cell_type": "code",
   "execution_count": 19,
   "metadata": {},
   "outputs": [
    {
     "data": {
      "text/plain": [
       "[('name', 'string'), ('age', 'bigint'), ('job', 'string')]"
      ]
     },
     "execution_count": 19,
     "metadata": {},
     "output_type": "execute_result"
    }
   ],
   "source": [
    "# 메서드가 아닙니다. 리스트를 반환합니다.\n",
    "sample_df.dtypes"
   ]
  },
  {
   "cell_type": "code",
   "execution_count": 20,
   "metadata": {},
   "outputs": [
    {
     "data": {
      "text/plain": [
       "StructType(List(StructField(name,StringType,true),StructField(age,LongType,true),StructField(job,StringType,true)))"
      ]
     },
     "execution_count": 20,
     "metadata": {},
     "output_type": "execute_result"
    }
   ],
   "source": [
    "# 메서드가 아닙니다. 리스트를 반환합니다.\n",
    "sample_df.schema"
   ]
  },
  {
   "cell_type": "markdown",
   "metadata": {},
   "source": [
    "createOrReplaceTempView()"
   ]
  },
  {
   "cell_type": "code",
   "execution_count": 21,
   "metadata": {},
   "outputs": [
    {
     "name": "stdout",
     "output_type": "stream",
     "text": [
      "+-------+---+\n",
      "|   name|age|\n",
      "+-------+---+\n",
      "|hyunwoo| 13|\n",
      "|jiyoung| 13|\n",
      "+-------+---+\n",
      "\n"
     ]
    }
   ],
   "source": [
    "# createOrReplaceTempView()\n",
    "\n",
    "# DataFrame을 SQL문을 이용해 테이블처럼 조회할 수 있도록 등록해줍니다.\n",
    "# 단, 이 메서드로 등록된 테이블은 스파크세션이 유지되는 동안만 유효합니다.\n",
    "# (세션이 종료되면 사라짐)\n",
    "\n",
    "sample_df.createOrReplaceTempView(\"users\")\n",
    "spark.sql(\"SELECT name, age FROM users WHERE age > 10\").show()"
   ]
  },
  {
   "cell_type": "markdown",
   "metadata": {},
   "source": [
    "explain()"
   ]
  },
  {
   "cell_type": "code",
   "execution_count": 22,
   "metadata": {},
   "outputs": [
    {
     "name": "stdout",
     "output_type": "stream",
     "text": [
      "== Physical Plan ==\n",
      "*Filter (isnotnull(age#26L) && (age#26L > 10))\n",
      "+- InMemoryTableScan [name#25, age#26L], [isnotnull(age#26L), (age#26L > 10)]\n",
      "      +- InMemoryRelation [name#25, age#26L, job#27], true, 10000, StorageLevel(disk, memory, 2 replicas)\n",
      "            +- Scan ExistingRDD[name#25,age#26L,job#27]\n"
     ]
    }
   ],
   "source": [
    "# explain()\n",
    "\n",
    "# 데이터프레임 처리와 관련된 실행 계획 정보를 출력합니다.\n",
    "\n",
    "spark.sql(\"SELECT name, age FROM users WHERE age > 10\").explain()"
   ]
  },
  {
   "cell_type": "markdown",
   "metadata": {},
   "source": [
    "<br><br>\n",
    "** 3) 비타입 트랜스포메이션 연산 **\n",
    "\n",
    "> Row, Column, functions\n",
    "\n",
    ">: 스파크SQL가 제공하는 프로그래밍 API인 org.apache.spark.sql.Row와 org.apache.spark.sql.Column, org.apache.spark.sql.functions를 의미"
   ]
  },
  {
   "cell_type": "markdown",
   "metadata": {},
   "source": [
    "### Column"
   ]
  },
  {
   "cell_type": "code",
   "execution_count": 26,
   "metadata": {},
   "outputs": [
    {
     "name": "stdout",
     "output_type": "stream",
     "text": [
      "+-------+---+-------+\n",
      "|   name|age|    job|\n",
      "+-------+---+-------+\n",
      "|hyunwoo| 13|student|\n",
      "|jiyoung| 13|student|\n",
      "+-------+---+-------+\n",
      "\n"
     ]
    }
   ],
   "source": [
    "# SQL문을 직접 이용한 연산\n",
    "\n",
    "spark.sql(\"SELECT name, age, job FROM users WHERE age > 10\").show()"
   ]
  },
  {
   "cell_type": "code",
   "execution_count": 25,
   "metadata": {},
   "outputs": [
    {
     "name": "stdout",
     "output_type": "stream",
     "text": [
      "+-------+---+-------+\n",
      "|   name|age|    job|\n",
      "+-------+---+-------+\n",
      "|hyunwoo| 13|student|\n",
      "|jiyoung| 13|student|\n",
      "+-------+---+-------+\n",
      "\n"
     ]
    }
   ],
   "source": [
    "# 이 연산과 동일합니다.\n",
    "# 이런 형태의 연산을 비타입 트랜스포메이션 연산이라 합니다.\n",
    "\n",
    "sample_df.where(sample_df['age'] > 10).show()\n",
    "#sample_df.where(sample_df.age > 10).show() # 이런 형태도 가능"
   ]
  },
  {
   "cell_type": "markdown",
   "metadata": {},
   "source": [
    "- 비교연산: ===, >, <\n",
    "- 수치연산: +, -, x, % 등\n",
    "- contains, when, startWith 등 문자열, 집합, 논리연산 등\n",
    "- 두 개의 칼럼 값이 같은지 비교하기 위해서는 \"=\"나 \"==\"가 아닌 \"===\"(또는 !==)로 표기한다는 점!"
   ]
  },
  {
   "cell_type": "markdown",
   "metadata": {},
   "source": [
    "alias(), as()"
   ]
  },
  {
   "cell_type": "code",
   "execution_count": 27,
   "metadata": {},
   "outputs": [
    {
     "name": "stdout",
     "output_type": "stream",
     "text": [
      "+---------+\n",
      "|(age + 1)|\n",
      "+---------+\n",
      "|        8|\n",
      "|       14|\n",
      "|        6|\n",
      "|       14|\n",
      "+---------+\n",
      "\n"
     ]
    }
   ],
   "source": [
    "# alias()\n",
    "\n",
    "# 컬럼 명에 원하는 이름을 붙여줄 수 있습니다. \n",
    "sample_df.select(sample_df['age'] + 1).show()"
   ]
  },
  {
   "cell_type": "code",
   "execution_count": 28,
   "metadata": {},
   "outputs": [
    {
     "name": "stdout",
     "output_type": "stream",
     "text": [
      "+---+\n",
      "|age|\n",
      "+---+\n",
      "|  8|\n",
      "| 14|\n",
      "|  6|\n",
      "| 14|\n",
      "+---+\n",
      "\n"
     ]
    }
   ],
   "source": [
    "sample_df.select((sample_df['age'] + 1).alias(\"age\")).show()"
   ]
  },
  {
   "cell_type": "markdown",
   "metadata": {},
   "source": [
    "isin()"
   ]
  },
  {
   "cell_type": "code",
   "execution_count": 29,
   "metadata": {},
   "outputs": [
    {
     "name": "stdout",
     "output_type": "stream",
     "text": [
      "+---+\n",
      "| _1|\n",
      "+---+\n",
      "|  1|\n",
      "|  3|\n",
      "|  5|\n",
      "|  7|\n",
      "|  9|\n",
      "+---+\n",
      "\n"
     ]
    }
   ],
   "source": [
    "# isIn()\n",
    "\n",
    "# 컬럼의 값이 인자로 지정된 값에 포함되어 있는지의 여부를 확인합니다.\n",
    "# 아래의 예제는 유효한 값을 broadcaast 변수에 담아 필터처럼 사용합니다.\n",
    "\n",
    "from pyspark.sql import Row\n",
    "\n",
    "nums = spark.sparkContext.broadcast([1, 3, 5, 7, 9])\n",
    "rdd = spark.sparkContext.parallelize(range(0, 10)).map(lambda v: Row(v))\n",
    "df = spark.createDataFrame(rdd)\n",
    "df.where(df._1.isin(nums.value)).show()"
   ]
  },
  {
   "cell_type": "markdown",
   "metadata": {},
   "source": [
    "when()"
   ]
  },
  {
   "cell_type": "code",
   "execution_count": 30,
   "metadata": {},
   "outputs": [
    {
     "name": "stdout",
     "output_type": "stream",
     "text": [
      "+---+----+\n",
      "| id|type|\n",
      "+---+----+\n",
      "|  0|even|\n",
      "|  1| odd|\n",
      "|  2|even|\n",
      "|  3| odd|\n",
      "|  4|even|\n",
      "+---+----+\n",
      "\n"
     ]
    }
   ],
   "source": [
    "# when()\n",
    "\n",
    "from pyspark.sql import functions\n",
    "\n",
    "ds = spark.range(0, 5)\n",
    "col = functions.when(ds.id % 2 == 0, \"even\").otherwise(\"odd\").alias(\"type\")\n",
    "ds.select(ds.id, col).show()"
   ]
  },
  {
   "cell_type": "markdown",
   "metadata": {},
   "source": [
    "### Row\n",
    "Row는 org.apache.spark.sql.Row를 의미합니다.  \n",
    "숫자, 문자 등 다양한 타입의 값을 하나의 Row에 포함할 수 있습니다.  \n",
    "Row 내부의 값을 조회할 때는 Array처럼 0부터 시작하는 index를 이용합니다.  \n",
    "또는 Column 이름으로 접근할 수 있습니다."
   ]
  },
  {
   "cell_type": "code",
   "execution_count": 31,
   "metadata": {},
   "outputs": [
    {
     "data": {
      "text/plain": [
       "Row(name='friendship', age=7, job='student')"
      ]
     },
     "execution_count": 31,
     "metadata": {},
     "output_type": "execute_result"
    }
   ],
   "source": [
    "sample_df.head()"
   ]
  },
  {
   "cell_type": "code",
   "execution_count": 32,
   "metadata": {},
   "outputs": [
    {
     "data": {
      "text/plain": [
       "7"
      ]
     },
     "execution_count": 32,
     "metadata": {},
     "output_type": "execute_result"
    }
   ],
   "source": [
    "sample_df.head()[1]"
   ]
  },
  {
   "cell_type": "code",
   "execution_count": 33,
   "metadata": {},
   "outputs": [
    {
     "data": {
      "text/plain": [
       "'friendship'"
      ]
     },
     "execution_count": 33,
     "metadata": {},
     "output_type": "execute_result"
    }
   ],
   "source": [
    "sample_df.head()['name']"
   ]
  },
  {
   "cell_type": "markdown",
   "metadata": {},
   "source": [
    "<br><hr>\n",
    "## 기타 (참고)"
   ]
  },
  {
   "cell_type": "code",
   "execution_count": null,
   "metadata": {
    "collapsed": true
   },
   "outputs": [],
   "source": [
    "# 5.5.2.1.1절 ~ 5.5.2.2.4절\n",
    "def runBasicOpsEx(spark, sc, df):\n",
    "    df.show()\n",
    "    df.head()\n",
    "    df.first()\n",
    "    df.take(2)\n",
    "    df.count()\n",
    "    df.collect()\n",
    "    df.describe(\"age\").show()\n",
    "    df.persist(StorageLevel.MEMORY_AND_DISK_2)\n",
    "    df.printSchema()\n",
    "    df.columns\n",
    "    df.dtypes\n",
    "    df.schema\n",
    "    df.createOrReplaceTempView(\"users\")\n",
    "    spark.sql(\"select name, age from users where age > 20\").show()\n",
    "    spark.sql(\"select name, age from users where age > 20\").explain()\n",
    "\n",
    "\n",
    "# 5.5.2.4절\n",
    "def runColumnEx(spark, sc, df):\n",
    "    df.where(df.age > 10).show()\n",
    "\n",
    "\n",
    "# 5.5.2.4.2절\n",
    "def runAlias(spark, sc, df):\n",
    "    df.select(df.age + 1).show()\n",
    "    df.select((df.age + 1).alias(\"age\")).show()\n",
    "\n",
    "\n",
    "# 5.5.2.4.3절\n",
    "def runIsinEx(spark, sc):\n",
    "    nums = spark.sparkContext.broadcast([1, 3, 5, 7, 9])\n",
    "    rdd = spark.sparkContext.parallelize(range(0, 10)).map(lambda v: Row(v))\n",
    "    df = spark.createDataFrame(rdd)\n",
    "    df.where(df._1.isin(nums.value)).show()\n",
    "\n",
    "\n",
    "# 5.5.2.4.4절\n",
    "def runWhenEx(spark, sc):\n",
    "    ds = spark.range(0, 5)\n",
    "    col = when(ds.id % 2 == 0, \"even\").otherwise(\"odd\").alias(\"type\")\n",
    "    ds.select(ds.id, col).show()\n",
    "\n",
    "\n",
    "# 5.5.2.4.5절\n",
    "def runMaxMin(spark, df):\n",
    "    min_col = min(\"age\")\n",
    "    max_col = max(\"age\")\n",
    "    df.select(min_col, max_col).show()\n",
    "\n",
    "\n",
    "# 5.5.2.4.6절 ~ 5.5.2.4.9절\n",
    "def runAggregateFunctions(spark, df1, df2):\n",
    "    # collect_list, collect_set\n",
    "    doubledDf1 = df1.union(df1)\n",
    "    doubledDf1.select(functions.collect_list(doubledDf1[\"name\"])).show(truncate=False)\n",
    "    doubledDf1.select(functions.collect_set(doubledDf1[\"name\"])).show(truncate=False)\n",
    "\n",
    "    # count, countDistinct\n",
    "    doubledDf1.select(functions.count(doubledDf1[\"name\"]), functions.countDistinct(doubledDf1[\"name\"])).show(\n",
    "        truncate=False)\n",
    "\n",
    "    # sum\n",
    "    df2.printSchema()\n",
    "    df2.select(sum(df2[\"price\"])).show(truncate=False)\n",
    "\n",
    "    # grouping, grouping_id\n",
    "    df2.cube(df2[\"store\"], df2[\"product\"]).agg(sum(df2[\"amount\"]), grouping(df2[\"store\"])).show(truncate=False)\n",
    "    df2.cube(df2[\"store\"], df2[\"product\"]).agg(sum(df2[\"amount\"]), grouping_id(df2[\"store\"], df2[\"product\"])).show(\n",
    "        truncate=False)\n",
    "\n",
    "\n",
    "# 5.5.2.4.10 ~ 5.5.2.4.11 절\n",
    "def runCollectionFunctions(spark):\n",
    "    df = spark.createDataFrame([{'numbers': '9,1,5,3,9'}])\n",
    "    arrayCol = split(df.numbers, \",\")\n",
    "\n",
    "    # array_contains, size\n",
    "    df.select(arrayCol, array_contains(arrayCol, 2), size(arrayCol)).show(truncate=False)\n",
    "\n",
    "    # sort_array()\n",
    "    df.select(arrayCol, sort_array(arrayCol)).show(truncate=False)\n",
    "\n",
    "    # explode, posexplode\n",
    "    df.select(explode(arrayCol)).show(truncate=False)\n",
    "    df.select(posexplode(arrayCol)).show(truncate=False)\n",
    "\n",
    "\n",
    "# 5.5.2.4.10 ~ 5.5.2.4.11 절\n",
    "def runCollectionFunctions(spark):\n",
    "    df = spark.createDataFrame([{'numbers': '9,1,5,3,9'}])\n",
    "    arrayCol = split(df.numbers, \",\")\n",
    "\n",
    "    # array_contains, size\n",
    "    df.select(arrayCol, array_contains(arrayCol, 2), size(arrayCol)).show(truncate=False)\n",
    "\n",
    "    # sort_array()\n",
    "    df.select(arrayCol, sort_array(arrayCol)).show(truncate=False)\n",
    "\n",
    "    # explode, posexplode\n",
    "    df.select(explode(arrayCol)).show(truncate=False)\n",
    "    df.select(posexplode(arrayCol)).show(truncate=False)\n",
    "\n",
    "\n",
    "# 5.5.2.4.12 ~ 5.5.2.4.14절\n",
    "def runDateFunctions(spark):\n",
    "    f1 = StructField(\"d1\", StringType(), True)\n",
    "    f2 = StructField(\"d2\", StringType(), True)\n",
    "    schema1 = StructType([f1, f2])\n",
    "\n",
    "    df = spark.createDataFrame([(\"2017-12-25 12:00:05\", \"2017-12-25\")], schema1)\n",
    "    df.show(truncate=False)\n",
    "\n",
    "    # current_date, unix_timestamp, to_date\n",
    "    d3 = current_date().alias(\"d3\")\n",
    "    d4 = unix_timestamp(df[\"d1\"].alias(\"d4\"))\n",
    "    d5 = to_date(df[\"d2\"].alias(\"d5\"))\n",
    "    d6 = to_date(d4.cast(\"timestamp\")).alias(\"d6\")\n",
    "    df.select(df[\"d1\"], df[\"d2\"], d3, d4, d5, d6).show(truncate=False)\n",
    "\n",
    "    # add_months, date_add, last_day\n",
    "    d7 = add_months(d6, 2).alias(\"d7\")\n",
    "    d8 = date_add(d6, 2).alias(\"d8\")\n",
    "    d9 = last_day(d6).alias(\"d9\")\n",
    "    df.select(df[\"d1\"], df[\"d2\"], d7, d8, d9).show(truncate=False)\n",
    "\n",
    "    # window\n",
    "    f3 = StructField(\"date\", StringType(), True)\n",
    "    f4 = StructField(\"product\", StringType(), True)\n",
    "    f5 = StructField(\"amount\", IntegerType(), True)\n",
    "    schema2 = StructType([f3, f4, f5])\n",
    "\n",
    "    r2 = (\"2017-12-25 12:01:00\", \"note\", 1000)\n",
    "    r3 = (\"2017-12-25 12:01:10\", \"pencil\", 3500)\n",
    "    r4 = (\"2017-12-25 12:03:20\", \"pencil\", 23000)\n",
    "    r5 = (\"2017-12-25 12:05:00\", \"note\", 1500)\n",
    "    r6 = (\"2017-12-25 12:05:07\", \"note\", 2000)\n",
    "    r7 = (\"2017-12-25 12:06:25\", \"note\", 1000)\n",
    "    r8 = (\"2017-12-25 12:08:00\", \"pencil\", 500)\n",
    "    r9 = (\"2017-12-25 12:09:45\", \"note\", 30000)\n",
    "\n",
    "    dd = spark.createDataFrame([r2, r3, r4, r5, r6, r7, r8, r9], schema2);\n",
    "\n",
    "    timeCol = unix_timestamp(dd[\"date\"]).cast(\"timestamp\");\n",
    "    windowCol = window(timeCol, \"5 minutes\");\n",
    "    dd.groupBy(windowCol, dd[\"product\"]).agg(sum(dd[\"amount\"])).show(truncate=False);\n",
    "\n",
    "\n",
    "# 5.5.2.4.15절\n",
    "def runDateFunctions(spark):\n",
    "    # 파이썬의 경우 아래와 같이 튜플을 이용하여 데이터프레임을 생성하는 것도 가능함\n",
    "    df1 = spark.createDataFrame([(1.512,), (2.234,), (3.42,)], ['value'])\n",
    "    df2 = spark.createDataFrame([(25.0,), (9.0,), (10.0,)], ['value'])\n",
    "\n",
    "    df1.select(round(df1[\"value\"], 1)).show()\n",
    "    df2.select(functions.sqrt('value')).show()\n",
    "\n",
    "\n",
    "# 5.5.2.4.16 ~ 5.5.2.4.20절\n",
    "def runOtherFunctions(spark, personDf):\n",
    "    df = spark.createDataFrame([(\"v1\", \"v2\", \"v3\")], [\"c1\", \"c2\", \"c3\"]);\n",
    "\n",
    "    # array\n",
    "    df.select(df.c1, df.c2, df.c3, array(\"c1\", \"c2\", \"c3\").alias(\"newCol\")).show(truncate=False)\n",
    "\n",
    "    # desc, asc\n",
    "    personDf.show()\n",
    "    personDf.sort(functions.desc(\"age\"), functions.asc(\"name\")).show()\n",
    "\n",
    "    # pyspark 2.1.0 버전은 desc_nulls_first, desc_nulls_last, asc_nulls_first, asc_nulls_last 지원하지 않음\n",
    "\n",
    "    # split, length (pyspark에서 컬럼은 df[\"col\"] 또는 df.col 형태로 사용 가능)\n",
    "    df2 = spark.createDataFrame([(\"Splits str around pattern\",)], ['value'])\n",
    "    df2.select(df2.value, split(df2.value, \" \"), length(df2.value)).show(truncate=False)\n",
    "\n",
    "    # rownum, rank\n",
    "    f1 = StructField(\"date\", StringType(), True)\n",
    "    f2 = StructField(\"product\", StringType(), True)\n",
    "    f3 = StructField(\"amount\", IntegerType(), True)\n",
    "    schema = StructType([f1, f2, f3])\n",
    "\n",
    "    p1 = (\"2017-12-25 12:01:00\", \"note\", 1000)\n",
    "    p2 = (\"2017-12-25 12:01:10\", \"pencil\", 3500)\n",
    "    p3 = (\"2017-12-25 12:03:20\", \"pencil\", 23000)\n",
    "    p4 = (\"2017-12-25 12:05:00\", \"note\", 1500)\n",
    "    p5 = (\"2017-12-25 12:05:07\", \"note\", 2000)\n",
    "    p6 = (\"2017-12-25 12:06:25\", \"note\", 1000)\n",
    "    p7 = (\"2017-12-25 12:08:00\", \"pencil\", 500)\n",
    "    p8 = (\"2017-12-25 12:09:45\", \"note\", 30000)\n",
    "\n",
    "    dd = spark.createDataFrame([p1, p2, p3, p4, p5, p6, p7, p8], schema)\n",
    "    w1 = Window.partitionBy(\"product\").orderBy(\"amount\")\n",
    "    w2 = Window.orderBy(\"amount\")\n",
    "    dd.select(dd.product, dd.amount, functions.row_number().over(w1).alias(\"rownum\"),\n",
    "              functions.rank().over(w2).alias(\"rank\")).show()\n",
    "\n",
    "\n",
    "# 5.5.2.4.21절\n",
    "def runUDF(spark, df):\n",
    "    # functions를 이용한 등록\n",
    "    fn1 = functions.udf(lambda job: job == \"student\")\n",
    "    df.select(df[\"name\"], df[\"age\"], df[\"job\"], fn1(df[\"job\"])).show()\n",
    "    # SparkSession을 이용한 등록\n",
    "    spark.udf.register(\"fn2\", lambda job: job == \"student\")\n",
    "    df.createOrReplaceTempView(\"persons\")\n",
    "    spark.sql(\"select name, age, job, fn2(job) from persons\").show()\n",
    "\n",
    "\n",
    "# 5.5.2.4.24절\n",
    "def runAgg(spark, df):\n",
    "    df.agg(max(\"amount\"), min(\"price\")).show()\n",
    "    df.agg({\"amount\": \"max\", \"price\": \"min\"}).show()\n",
    "\n",
    "\n",
    "# 5.5.2.4.26절\n",
    "def runDfAlias(spark, df):\n",
    "    df.select(df[\"product\"]).show()\n",
    "    df.alias(\"aa\").select(\"aa.product\").show()\n",
    "\n",
    "\n",
    "# 5.5.2.4.27절\n",
    "def runGroupBy(spark, df):\n",
    "    df.groupBy(\"store\", \"product\").agg({\"price\": \"sum\"}).show()\n",
    "\n",
    "\n",
    "# 5.5.3.4.28절\n",
    "def runCube(spark, df):\n",
    "    df.cube(\"store\", \"product\").agg({\"price\": \"sum\"}).show()\n",
    "\n",
    "\n",
    "# 5.5.2.4.29절\n",
    "def runDistinct(spark):\n",
    "    d1 = (\"store1\", \"note\", 20, 2000)\n",
    "    d2 = (\"store1\", \"bag\", 10, 5000)\n",
    "    d3 = (\"store1\", \"note\", 20, 2000)\n",
    "    rows = [d1, d2, d3]\n",
    "    cols = [\"store\", \"product\", \"amount\", \"price\"]\n",
    "    df = spark.createDataFrame(rows, cols)\n",
    "    df.distinct().show()\n",
    "    df.dropDuplicates([\"store\"]).show()\n",
    "\n",
    "\n",
    "# 5.5.2.4.30절\n",
    "def runDrop(spark, df):\n",
    "    df.drop(df[\"store\"]).show()\n",
    "\n",
    "\n",
    "# 5.5.2.4.31절\n",
    "def runIntersect(spark):\n",
    "    a = spark.range(1, 5)\n",
    "    b = spark.range(2, 6)\n",
    "    c = a.intersect(b)\n",
    "    c.show()\n",
    "\n",
    "\n",
    "# 5.5.2.4.32절\n",
    "def runExcept(spark):\n",
    "    df1 = spark.range(1, 6)\n",
    "    df2 = spark.createDataFrame([(2,), (4,)], ['value'])\n",
    "    # 파이썬의 경우 except 대신 subtract 메서드 사용\n",
    "    # subtract의 동작은 except와 같음\n",
    "    df1.subtract(df2).show()\n",
    "\n",
    "\n",
    "# 5.5.2.4.33절\n",
    "def runJoin(spark, ldf, rdf):\n",
    "    joinTypes = \"inner,outer,leftouter,rightouter,leftsemi\".split(\",\")\n",
    "    for joinType in joinTypes:\n",
    "        print(\"============= %s ===============\" % joinType)\n",
    "        ldf.join(rdf, [\"word\"], joinType).show()\n",
    "\n",
    "\n",
    "# 5.5.2.4.35절\n",
    "def runNa(spark, ldf, rdf):\n",
    "    result = ldf.join(rdf, [\"word\"], \"outer\").toDF(\"word\", \"c1\", \"c2\")\n",
    "    result.show()\n",
    "    # 파이썬의 경우 na.drop또는 dropna 사용 가능\n",
    "    # c1과 c2 칼럼의 null이 아닌 값의 개수가 thresh 이하일 경우 drop\n",
    "    # thresh=1로 설정할 경우 c1 또는 c2 둘 중의 하나만 null 아닌 값을 가질 경우\n",
    "    # 결과에 포함시킨다는 의미가 됨\n",
    "    result.na.drop(thresh=2, subset=[\"c1\", \"c2\"]).show()\n",
    "    result.dropna(thresh=2, subset=[\"c1\", \"c2\"]).show()\n",
    "    # fill\n",
    "    result.na.fill({\"c1\": 0}).show()\n",
    "    # 파이썬의 경우 to_replace에 딕셔너리를 지정하여 replace를 수행(이 경우 value에 선언한 값은 무시됨\n",
    "    # 딕셔너리를 사용하지 않을 경우 키 목록(첫번째 인자)과 값 목록(두번째 인자)을 지정하여 replace 수행\n",
    "    result.na.replace(to_replace={\"w1\": \"word1\", \"w2\": \"word2\"}, value=\"\", subset=\"word\").show()\n",
    "    result.na.replace([\"w1\", \"w2\"], [\"word1\", \"word2\"], \"word\").show()\n",
    "\n",
    "\n",
    "# 5.5.2.4.36절\n",
    "def runOrderBy(spark):\n",
    "    df = spark.createDataFrame([(3, \"z\"), (10, \"a\"), (5, \"c\")], [\"idx\", \"name\"])\n",
    "    df.orderBy(\"name\", \"idx\").show()\n",
    "    df.orderBy(\"idx\", \"name\").show()\n",
    "\n",
    "\n",
    "# 5.5.2.4.37절\n",
    "def runRollup(spark, df):\n",
    "    df.rollup(\"store\", \"product\").agg({\"price\": \"sum\"}).show();\n",
    "\n",
    "\n",
    "# 5.5.2.4.38절\n",
    "def runStat(spark):\n",
    "    df = spark.createDataFrame([(\"a\", 6), (\"b\", 4), (\"c\", 12), (\"d\", 6)], [\"word\", \"count\"])\n",
    "    df.show()\n",
    "    df.stat.crosstab(\"word\", \"count\").show()\n",
    "\n",
    "\n",
    "# 5.5.2.4.39절\n",
    "def runWithColumn(spark):\n",
    "    df1 = spark.createDataFrame([(\"prod1\", \"100\"), (\"prod2\", \"200\")], [\"pname\", \"price\"])\n",
    "    df2 = df1.withColumn(\"dcprice\", df1[\"price\"] * 0.9)\n",
    "    df3 = df2.withColumnRenamed(\"dcprice\", \"newprice\")\n",
    "    df1.show()\n",
    "    df2.show()\n",
    "    df3.show()\n",
    "\n",
    "\n",
    "# 5.5.2.4.40절\n",
    "def runSave(spark):\n",
    "    sparkHomeDir = \"file:///Users/beginspark/Apps/spark\"\n",
    "    df = spark.read.json(sparkHomeDir + \"/examples/src/main/resources/people.json\")\n",
    "    df.write.save(\"/Users/beginspark/Temp/default/%d\" % time.time())\n",
    "    df.write.format(\"json\").save(\"/Users/beginspark/Temp/json/%d\" % time.time())\n",
    "    df.write.format(\"json\").partitionBy(\"age\").save(\"/Users/beginspark/Temp/parti/%d\" % time.time())\n",
    "    # saveMode: append, overwrite, error, ignore\n",
    "    df.write.mode(\"overwrite\").saveAsTable(\"ohMyTable\")\n",
    "    spark.sql(\"select * from ohMyTable\").show()\n",
    "    # 파이썬의 경우 bucketBy 지원하지 않음\n"
   ]
  },
  {
   "cell_type": "code",
   "execution_count": null,
   "metadata": {
    "collapsed": true
   },
   "outputs": [],
   "source": [
    "# [예제 실행 방법] 아래에서 원하는 예제의 주석을 제거하고 실행!!\n",
    "\n",
    "# runBasicOpsEx(spark, sc, sample_df)\n",
    "# createDataFrame(spark, sc)\n",
    "# runColumnEx(spark, sc, sample_df)\n",
    "# runAlias(spark, sc, sample_df)\n",
    "# runIsinEx(spark, sc)\n",
    "# runWhenEx(spark, sc)\n",
    "# runMaxMin(spark, sample_df)\n",
    "# runAggregateFunctions(spark, sample_df, sample_df2)\n",
    "# runCollectionFunctions(spark)\n",
    "# runDateFunctions(spark)\n",
    "# runDateFunctions(spark)\n",
    "# runOtherFunctions(spark, sample_df)\n",
    "# runUDF(spark, sample_df)\n",
    "# runAgg(spark, sample_df2)\n",
    "# runDfAlias(spark, sample_df2)\n",
    "# runGroupBy(spark, sample_df2)\n",
    "# runCube(spark, sample_df2)\n",
    "# runDistinct(spark)\n",
    "# runDrop(spark, sample_df2)\n",
    "# runIntersect(spark)\n",
    "# runExcept(spark)\n",
    "# runJoin(spark, ldf, rdf)\n",
    "# runNa(spark, ldf, rdf)\n",
    "# runOrderBy(spark)\n",
    "# runRollup(spark, sample_df2)\n",
    "# runWithColumn(spark)\n",
    "# runSave(spark)"
   ]
  }
 ],
 "metadata": {
  "kernelspec": {
   "display_name": "Python 3",
   "language": "python",
   "name": "python3"
  },
  "language_info": {
   "codemirror_mode": {
    "name": "ipython",
    "version": 3
   },
   "file_extension": ".py",
   "mimetype": "text/x-python",
   "name": "python",
   "nbconvert_exporter": "python",
   "pygments_lexer": "ipython3",
   "version": "3.6.1"
  }
 },
 "nbformat": 4,
 "nbformat_minor": 2
}
