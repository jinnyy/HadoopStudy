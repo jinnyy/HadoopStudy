{
 "cells": [
  {
   "cell_type": "markdown",
   "metadata": {},
   "source": [
    "# SparkSQL\n",
    "01_ 개념과 워드카운트 예제\n",
    "<div style=\"text-align: right\">\n",
    "2018.05.12 / 발제자 김연진\n",
    "</div>"
   ]
  },
  {
   "cell_type": "markdown",
   "metadata": {},
   "source": [
    "<br>\n",
    "### Reference\n",
    "- 빅데이터 분석을 위한 스파크2 프로그래밍, 백성민, 위키북스\n",
    "- Spark SQL, DataFrames and Datasets Guide, https://spark.apache.org/docs/latest/sql-programming-guide.html"
   ]
  },
  {
   "cell_type": "markdown",
   "metadata": {},
   "source": [
    "<hr>\n",
    "### 순서\n",
    "- 스파크 SQL\n",
    "- 데이터셋\n",
    "- 연산의 종류\n",
    "- 예제: 워드카운트\n",
    "\n",
    "<hr>"
   ]
  },
  {
   "cell_type": "markdown",
   "metadata": {},
   "source": [
    "## 스파크 SQL\n",
    "- RDD에서는 '스키마' 정보를 표현할 수 없음 ==> 보완하기 위해 등장\n",
    "- 데이터를 다루는 방법\n",
    "    - SQL을 사용\n",
    "    - 데이터셋(Dataset) API를 이용\n",
    "<br><br>"
   ]
  },
  {
   "cell_type": "markdown",
   "metadata": {},
   "source": [
    "## 데이터셋\n",
    "- 데이터 모델이자 API\n",
    "- RDD와 마찬가지로 분산 오브젝트 컬렉션에 대한 프로그래밍 모델\n",
    "- 트랜스포메이션과 액션 연산을 포함\n",
    "- RDD에서 제공하던 형태의 연산 + 기존 데이터프레임 같은 형태의 연산 사용 가능!\n",
    "- 참고: 데이터 프레임 = org.apache.spark.sql.Row 타입의 객체로 구성된 데이터셋\n",
    "<br><br>"
   ]
  },
  {
   "cell_type": "markdown",
   "metadata": {},
   "source": [
    "## 연산의 종류와 주요 API\n",
    "- **트랜스포메이션**: 데이터셋을 생성\n",
    "    - 타입 연산 (Typed Operations)\n",
    "    - 비타입 연산 (Untyped Operations, 데이터 프레임을 통한 연산)\n",
    "    \n",
    "    \n",
    "    \n",
    "- **액션**: 실제 데이터 처리를 수행하고 결과를 생성\n",
    "\n",
    "<div style=\"text-align: right\">\n",
    "※ 파이썬의 경우 데이터셋 API를 지원하지 않으므로 기존의 데이터프레임만 사용 가능\n",
    "</div>\n",
    "<br><br>"
   ]
  },
  {
   "cell_type": "markdown",
   "metadata": {},
   "source": [
    "## 예제: 워드카운트\n",
    "\n",
    "~~~\n",
    "<코드의 순서>\n",
    "1. 스파크 세션 생성\n",
    "2. 스파크 세션으로부터 데이터셋/데이터 프레임 생성\n",
    "3. 생성된 데이터셋/데이터프레임을 이용해 데이터 처리\n",
    "4. 처리된 결과 데이터를 외부 저장소에 저장\n",
    "5. 스파크세션 종료\n",
    "~~~"
   ]
  },
  {
   "cell_type": "markdown",
   "metadata": {},
   "source": [
    "#### 1. 스파크 세션 생성"
   ]
  },
  {
   "cell_type": "code",
   "execution_count": 1,
   "metadata": {
    "collapsed": true
   },
   "outputs": [],
   "source": [
    "from pyspark.sql import SparkSession\n",
    "from pyspark.sql.functions import *\n",
    "\n",
    "spark = SparkSession\\\n",
    "          .builder\\\n",
    "          .appName(\"Sample\")\\\n",
    "          .master(\"local[*]\")\\\n",
    "          .getOrCreate()"
   ]
  },
  {
   "cell_type": "markdown",
   "metadata": {},
   "source": [
    "#### 2. 스파크 세션으로부터 데이터셋/데이터 프레임 생성"
   ]
  },
  {
   "cell_type": "code",
   "execution_count": 4,
   "metadata": {},
   "outputs": [],
   "source": [
    "source = \"file:///home/ubuntu/data/2018-1/chapter05/spark05_sparkSQL/resources/countMe.txt\"         # hdfs 상의 파일이나 md 파일도 가능\n",
    "df = spark.read.text(source)               # 데이터소스로 텍스트 파일을 지정했으므로 text()메소드 사용"
   ]
  },
  {
   "cell_type": "markdown",
   "metadata": {},
   "source": [
    "#### 3. 생성된 데이터셋/데이터프레임을 이용해 데이터 처리"
   ]
  },
  {
   "cell_type": "code",
   "execution_count": 5,
   "metadata": {},
   "outputs": [
    {
     "name": "stdout",
     "output_type": "stream",
     "text": [
      "+----------+-----+\n",
      "|      word|count|\n",
      "+----------+-----+\n",
      "|      July|    1|\n",
      "|     those|    5|\n",
      "|     spoil|    3|\n",
      "|    travel|    2|\n",
      "|       few|    1|\n",
      "|pack-drill|    1|\n",
      "|    waters|    1|\n",
      "|    harder|    1|\n",
      "|      hope|    1|\n",
      "|      some|    1|\n",
      "|    taking|    1|\n",
      "|   Sabbath|    1|\n",
      "|     parts|    1|\n",
      "|      lies|    1|\n",
      "|    Mighty|    1|\n",
      "|  Tomorrow|    2|\n",
      "|   vinegar|    1|\n",
      "|   stomach|    2|\n",
      "|   showers|    2|\n",
      "|   flowers|    2|\n",
      "+----------+-----+\n",
      "only showing top 20 rows\n",
      "\n"
     ]
    }
   ],
   "source": [
    "wordDF = df.select(explode(split(col(\"value\"), \" \")).alias(\"word\"))\n",
    "result = wordDF.groupBy(\"word\").count()\n",
    "result.show()"
   ]
  },
  {
   "cell_type": "markdown",
   "metadata": {},
   "source": [
    "#### 4. 처리된 결과 데이터를 외부 저장소에 저장"
   ]
  },
  {
   "cell_type": "code",
   "execution_count": 14,
   "metadata": {},
   "outputs": [],
   "source": [
    "outdir = \"file:///home/ubuntu/data/2018-1/chapter05/spark05_sparkSQL/output2/\"\n",
    "result.write.format(\"csv\").save(outdir)"
   ]
  },
  {
   "cell_type": "markdown",
   "metadata": {},
   "source": [
    "#### 5. 스파크세션 종료"
   ]
  },
  {
   "cell_type": "code",
   "execution_count": 15,
   "metadata": {
    "collapsed": true
   },
   "outputs": [],
   "source": [
    "spark.stop()"
   ]
  }
 ],
 "metadata": {
  "kernelspec": {
   "display_name": "Python 3",
   "language": "python",
   "name": "python3"
  },
  "language_info": {
   "codemirror_mode": {
    "name": "ipython",
    "version": 3
   },
   "file_extension": ".py",
   "mimetype": "text/x-python",
   "name": "python",
   "nbconvert_exporter": "python",
   "pygments_lexer": "ipython3",
   "version": "3.6.1"
  }
 },
 "nbformat": 4,
 "nbformat_minor": 2
}
