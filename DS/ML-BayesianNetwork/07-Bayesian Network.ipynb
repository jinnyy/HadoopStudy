{
 "cells": [
  {
   "cell_type": "markdown",
   "metadata": {},
   "source": [
    "### Bayesian Network\n",
    "---\n",
    "<div style=\"text-align:right\"><strong>김연진</strong></div>\n",
    "\n",
    "### 개요\n",
    "- 이론: 문일철 교수님 인공지능 및 기계학습 개론 2 - Chapter 7 요약 +@\n",
    "- 실습: 라이브러리를 활용한 튜토리얼 형태의 연습용 코드\n",
    "- Graphical Model에 속함\n",
    "\n",
    "### 순서\n",
    "1. 확률\n",
    "2. 베이지안 네트워크 이해\n",
    "3. 베이지안 네트워크 확률 변수들 간 관계 파악 방법\n",
    "\n",
    "\n",
    "\n",
    "\n",
    "### 참고\n",
    "- [Frequentist 대 Bayesian] https://www.probabilisticworld.com/frequentist-bayesian-approaches-inferential-statistics/\n",
    "- [다운로드 시 참고] https://stackoverflow.com/questions/28431350/create-bayesian-network-and-learn-parameters-with-python3-x\n",
    "\n",
    "<br>\n",
    "\n",
    "---"
   ]
  },
  {
   "attachments": {
    "image.png": {
     "image/png": "[encoded data removed]"
    }
   },
   "cell_type": "markdown",
   "metadata": {},
   "source": [
    "<br>\n",
    "<h1 style=\"text-align:center\">1. 확률의 기초 </h1>\n",
    "\n",
    "### 1.1 확률의 두 가지 기준\n",
    "1. Frequentist의 관점\n",
    "2. Bayesian의 view\n",
    "\n",
    "<div style=\"text-align:right\">참고: [Frequentist 대 Bayesian] https://www.probabilisticworld.com/frequentist-bayesian-approaches-inferential-statistics/ </div>\n",
    "\n",
    "\n",
    "\n",
    "### 1.2 복습\n",
    " - P(A=true)는 A=true가 일어날 확률\n",
    " - 확률: relative frequency (사건이 발생하는 상대적인 빈도로 확률을 표현함)\n",
    "\n",
    "\n",
    " - **조건부 확률 (conditional Probability)**\n",
    "    - 주어진 조건 하에 어떤 사건이 발생할 확률에 더 관심 있음\n",
    "    - **P(A=true | B=true)**: B=true일 때 A=true 일 확률\n",
    "    - B=true가 전체 부분이라고 보고 그 안에서 A=true인 것의 확률\n",
    "    \n",
    "- **Joint Probability** (중요)\n",
    "    - P(A=true, B=true)는 A=true and B=true 라는 뜻\n",
    "    - P(X|Y) = P(X,Y) / P(Y)\n",
    "\n",
    "- **Total Probability**\n",
    "    - P(a) = ∑bP(a, b) = ∑bP(a | b) P(b)\n",
    "    - 첫 번째 등호: B가 true일 때와 false일 때를 모두 합하므로 B와는 무관해져서 P(A)와 같아진다\n",
    "    - 두 번째 등호: P(X|Y) = P(X,Y) / P(Y) 이용\n",
    "    - joint를 알면 marginalization을 통해 개별에 대해서도 알 수 있다\n",
    "    - 변수가 늘어나면 알아야 하는 변수 많아져서 계산이 곤란 (Naive Bayes 참고)\n",
    "\n",
    "- **Chain Rule**\n",
    "    - P(a, b, c, … z) = P(a | b, c, …. z) P(b, c, … z)\n",
    "![image.png](attachment:image.png)\n",
    "\n",
    "- **Independence**\n",
    "    - P(A|B) = P(A) 인 경우 독립이다 (B와 상관 없이 A가 발생한다)\n",
    "    - P(A,B) = P(A)P(B)\n",
    "    - P(B|A) = P(B)\n",
    "    - Marginal Independence\n",
    "        - P(X) = P(X|Y)\n",
    "        - 앞의 정의와 동일\n",
    "    - Conditional Independence\n",
    "        - P(A|B,C) = P(A|C)\n",
    "        - C가 given인 상황에서는 B에 대해 A가 independent하다\n",
    "        - Condition이 붙는 Independence\n",
    "\n",
    "\n",
    "<br>\n",
    "<hr>"
   ]
  },
  {
   "cell_type": "markdown",
   "metadata": {},
   "source": [
    "<h1 style=\"text-align:center\"> 2. Bayesian Network </h1>\n",
    "\n",
    "### 2.1 Naive Bayes Classifier\n",
    "![naive-bayes.png](./00-naive-bayes.png)\n",
    "- \"Y가 given인 상황에서 개별 input feature들은 conditionally independent하다\"라는 naive한 가정\n",
    "- Graphical Notaion으로 표현 ==> Bayesian Network 등장\n",
    "\n",
    "<br>\n",
    "### 2.2 Bayesian Network\n",
    "- random variable의 full joint distribution을 가장 compact하게 표현할 수 있는 방법\n",
    "- 노드와 링크(그래프)로 표현\n",
    "\n",
    "![bayes network.png](./01-bayes-network.png \"bayes network\")\n",
    "\n",
    "\n",
    "- Acyclic Directed 그래프\n",
    "- 노드\n",
    "    - random variable\n",
    "    - P (Xi|Parents(Xi))\n",
    "\n",
    "- 네트워크의 위상(topology)은 조건부 독립 관계를 가정한다\n",
    "\n",
    "- Qualitive Components (구조 차원의 정보)\n",
    "    - 선행 지식이 있고, 그래프(네트워크)에 표현\n",
    "    - 데이터를 통해 지식 획득\n",
    "    - 전문가 등으로부터 지식 획득\n",
    "\n",
    "- Quantative Components (수치적인 정보)\n",
    "    - Conditional Probability table (이산적(Descrete)인 value에 대해서만 가능, Continuous한 value는 function의 형태로)\n",
    "    "
   ]
  },
  {
   "cell_type": "markdown",
   "metadata": {},
   "source": [
    "### 2.3 Typical Bayes Network Structure\n",
    "\n",
    "<br>\n",
    "<center>\n",
    "<img src=\"02-typical-1.png\" width=\"700\" height=\"100\"> </img>\n",
    "- A를 알면 J와 M은 독립\n",
    "\n",
    "<img src=\"02-typical-2.png\" width=\"700\" height=\"100\"> </img>\n",
    "    - A가 주어졌을 때 B와 M은 독립\n",
    "\n",
    "<img src=\"02-typical-3.png\" width=\"700\" height=\"100\"> </img>\n",
    "    - A가 주어지면 B와 E의 관계가 생김<br>\n",
    "    - A를 알게 되면 B가 E인지 판단하기 위한 정보를 제공함\n",
    "</center>"
   ]
  },
  {
   "cell_type": "markdown",
   "metadata": {},
   "source": [
    "### 2.4 Bayes Ball Algorithm\n",
    "1. 목적\n",
    "    - 특정 variable 하나와 다른 random variable 하나가 독립인지 판단\n",
    "    - 무언가가 given인 상황에서 한 vaiable이 다른 variable이 독립인지 판단\n",
    "\n",
    "\n",
    "2. 방법\n",
    "    - 공을 A에서 굴려서 B에 가면 A와 B는 independent하지 않다\n",
    "    - 공이 엣지에 연결된 노드로 굴러가서 도달 가능하지 않으면 independent\n",
    "    - Common Parent, Cascading: 중간에 given인 정보가 있으면 더이상 굴러갈 수 없음\n",
    "    - V-structure: 중간에 있는(자식) 노드가 given이면 연결통로가 생김\n",
    "\n",
    "\n",
    "3. Markov Blanket\n",
    "    - P(A|blanket, B)=P(A|blanket)\n",
    "    - Blanket={parents, children, children’s other parents}\n",
    "    - parents, children: Commen Parent, Cascading인 경우에 independent 보장\n",
    "    - children's other parents: V-structure인 경우에 independent 보장\n",
    "    - blanket에 대해 condition을 할 수 있으면 그 외(담요 바깥)의 것들에 대해 conditional independent\n",
    "\n",
    "\n",
    "4. D-Seperation (Directed Seperation)\n",
    "    - X is D-seperated from Z given Y\n",
    "    - X⊥Z | Y\n"
   ]
  },
  {
   "cell_type": "markdown",
   "metadata": {},
   "source": [
    "### 2.5 Factorization of Bayes Network\n",
    "- 변수가 많아지므로 줄이기 위해 independent에 대한 정보가 필요\n",
    "- Bayesian Network를 활용\n",
    "- 𝑃(𝑋)=∏_𝑖 𝑃(𝑋_𝑖 |𝑋_(𝜋_𝑖 ))\n",
    "![image.png](./03-factorization.png)\n",
    "\n",
    "\n",
    "### 2.6 Plate Notation\n",
    "- 접시를 만들어서 마지 for loop처럼 보고 박스(plate)와 한 변수가 연결돼있으면 plate 안에 들어있는 X1 ~ Xn까지 다 연결돼있다고 봄"
   ]
  },
  {
   "cell_type": "markdown",
   "metadata": {},
   "source": [
    "<br><br><br><hr><br>\n",
    "<h1 style=\"text-align:center\"> 3. Inference of Bayesian Network </h1>\n",
    "<br>\n",
    "\n",
    "- Parameter를 계산 (calculate parameters)\n",
    "- 정확한(exact) 추론값을 나열 (list the exact inference of Bayesian Network)\n",
    "\n",
    "<br>\n",
    "## 3.0 예시\n",
    "\n",
    "- 예측(Prediction): P(A | B,E) ==> A가 true or false\n",
    "- 진단(Diagnosis): P(B,E | A) ==> 4가지 케이스\n",
    "\n",
    "<br>"
   ]
  },
  {
   "cell_type": "markdown",
   "metadata": {},
   "source": [
    "## 3.1 Marginalization and Elimination\n",
    "- 문제를 full joint가 있는 방향으로 이끌어감\n",
    "- full joint를 한 다음 --> marginallize함 --> partial의 joint로 만듦 --> Confitional Probability, ...\n",
    "\n",
    "\n",
    "- 덧셈과 곱셈을 잔뜩 하기 (Brute-Force)\n",
    "- Bayesian Network와 factorization 공식 활용해서 풀 수 있는 형태의 식을 얻어냄\n",
    "- 실제 값들(표)을 대입해서 식을 계산 가능\n",
    "- p.7\n",
    "\n",
    "\n",
    "- 더 좋은 방법은 없을까?\n",
    "- 상수에 해당하는 값들을 시그마 밖(앞)으로 보낸다\n",
    "- 계산량 감소\n",
    "\n",
    "\n",
    "<br>\n",
    "\n",
    "## 3.2 Variable Elimination\n",
    "\n",
    "- 구하고자하는 정보를 베이지안 네트워크로 표현한 것(그래프)를 위상정렬한 순서(topological order)로 표현\n",
    "- function Notation으로 바꿔서 표현\n",
    "- ==> 어떤 변수들에 대해서 테이블 하나로 축약 가능 (테이블 곱셈 - full joint) ==> 변수 줄어듦\n",
    "- 나중에 계산할 때에는 새로 만든 테이블에만 접근하면 됨\n",
    "\n",
    "<br>"
   ]
  },
  {
   "cell_type": "markdown",
   "metadata": {},
   "source": [
    "## 3.3 Potential Functions\n",
    "- **Potential Function**:\n",
    "    - 잠재력은 있지만 아직 PDF(Probability Distributed Function)는 아닌 function\n",
    "    - a function which is not a probability function yet, but once normalized it can be a probability distribution function\n",
    "- **Clique**: fully connected된 subgraph(subset) (subgraph에 포함되는 노드에 fully connected된 것을 말함)\n",
    "- **Separator**: Clique들에 공통으로 들어가서 연결해주는 노드\n",
    "\n",
    "- 각 Clique에 potential function 정의하기 -- 𝜓(𝑎,𝑏) 형태\n",
    "- 각 link에 대한 potential function -- 𝜙(𝑏) 형태\n",
    "- 𝑃(𝐴,𝐵,𝐶,𝐷) 를 potential function들로 표현 가능\n",
    "\n",
    "\n",
    "- potential function들로 표현한 식이 P(A,B,C,D) = P(A|B)P(B|C)P(C|D)P(D)라는 식과 연결되도록 함\n",
    "- conditional probability나 joint를 이용\n",
    "- joint를 이용하는 것이 더 직관적이지만, 실제로 가지고 있는 정보는 conditional 정보\n",
    "\n",
    "\n",
    "<br>\n",
    "## 3.4 Absorption in Clique Graph\n",
    "- **Belief Propagation**\n",
    "    - observation이 Clique와 Link를 통해서 propagate\n",
    "\n",
    "- absorption(update) rule\n",
    "    - 업데이트되는 과정: 𝜓∗(𝐵,𝐶) = 𝜓(𝐵,𝐶) X 𝜙∗(𝐵) / 𝜙(𝐵)\n",
    "    - 𝜓(𝐵,𝐶): 기존의 potential function\n",
    "    - 𝜙∗(𝐵):  새로이 등장한 𝜓를 marginalize out해서 새롭게 만들어낸 potential function\n",
    "    - 𝜙(𝐵): 예전에 잡아놨던(기존의) separater의 potential function\n",
    "    - local consistency를 보장\n"
   ]
  },
  {
   "cell_type": "markdown",
   "metadata": {},
   "source": [
    "<br>\n",
    "\n",
    "---\n",
    "<br>\n",
    "<h1 style=\"text-align:center\"> 튜토리얼 </h1>\n",
    "\n",
    "### 설치\n",
    "- 참고: http://www.bayespy.org/user_guide/install.html\n",
    "- 여러가지 라이브러리가 있지만 이번 튜토리얼에서는 bayespy를 이용해보자"
   ]
  },
  {
   "cell_type": "code",
   "execution_count": 1,
   "metadata": {},
   "outputs": [
    {
     "name": "stdout",
     "output_type": "stream",
     "text": [
      "Collecting bayespy\n",
      "  Downloading https://files.pythonhosted.org/packages/e9/19/dda8b96897ec9f188fc48becc04f0b9bc9c504c4791086fb4f0211306019/bayespy-0.5.17.tar.gz (395kB)\n",
      "Requirement already satisfied: numpy>=1.10.0 in c:\\programdata\\anaconda3\\lib\\site-packages (from bayespy) (1.14.3)\n",
      "Requirement already satisfied: scipy>=0.13.0 in c:\\programdata\\anaconda3\\lib\\site-packages (from bayespy) (1.1.0)\n",
      "Requirement already satisfied: h5py in c:\\programdata\\anaconda3\\lib\\site-packages (from bayespy) (2.7.1)\n",
      "Requirement already satisfied: six in c:\\programdata\\anaconda3\\lib\\site-packages (from h5py->bayespy) (1.11.0)\n",
      "Building wheels for collected packages: bayespy\n",
      "  Running setup.py bdist_wheel for bayespy: started\n",
      "  Running setup.py bdist_wheel for bayespy: finished with status 'done'\n",
      "  Stored in directory: C:\\Users\\young\\AppData\\Local\\pip\\Cache\\wheels\\1d\\db\\31\\e5fd5f3a154a21a29ceb8b15d689d98436b5a3f418782f569b\n",
      "Successfully built bayespy\n",
      "Installing collected packages: bayespy\n",
      "Successfully installed bayespy-0.5.17\n"
     ]
    },
    {
     "name": "stderr",
     "output_type": "stream",
     "text": [
      "distributed 1.21.8 requires msgpack, which is not installed.\n",
      "catboost 0.9.1.1 requires enum34, which is not installed.\n",
      "You are using pip version 10.0.1, however version 18.0 is available.\n",
      "You should consider upgrading via the 'python -m pip install --upgrade pip' command.\n"
     ]
    }
   ],
   "source": [
    "!pip install bayespy"
   ]
  },
  {
   "cell_type": "markdown",
   "metadata": {},
   "source": [
    "### Examples\n",
    "http://bayespy.org/examples/examples.html"
   ]
  },
  {
   "cell_type": "markdown",
   "metadata": {},
   "source": [
    "#### Data"
   ]
  },
  {
   "cell_type": "code",
   "execution_count": 1,
   "metadata": {},
   "outputs": [],
   "source": [
    "import numpy as np\n",
    "k = 2 # slope\n",
    "c = 5 # bias\n",
    "s = 2 # noise standard deviation"
   ]
  },
  {
   "cell_type": "code",
   "execution_count": 2,
   "metadata": {},
   "outputs": [],
   "source": [
    "x = np.arange(10)\n",
    "y = k*x + c + s*np.random.randn(10)"
   ]
  },
  {
   "cell_type": "markdown",
   "metadata": {},
   "source": [
    "#### Model"
   ]
  },
  {
   "cell_type": "code",
   "execution_count": 3,
   "metadata": {},
   "outputs": [],
   "source": [
    "X = np.vstack([x, np.ones(len(x))]).T"
   ]
  },
  {
   "cell_type": "code",
   "execution_count": 4,
   "metadata": {},
   "outputs": [
    {
     "name": "stderr",
     "output_type": "stream",
     "text": [
      "C:\\ProgramData\\Anaconda3\\lib\\site-packages\\h5py\\__init__.py:36: FutureWarning: Conversion of the second argument of issubdtype from `float` to `np.floating` is deprecated. In future, it will be treated as `np.float64 == np.dtype(float).type`.\n",
      "  from ._conv import register_converters as _register_converters\n"
     ]
    }
   ],
   "source": [
    "from bayespy.nodes import GaussianARD\n",
    "B = GaussianARD(0, 1e-6, shape=(2,))"
   ]
  },
  {
   "cell_type": "code",
   "execution_count": 5,
   "metadata": {},
   "outputs": [],
   "source": [
    "from bayespy.nodes import SumMultiply\n",
    "F = SumMultiply('i,i', B, X)"
   ]
  },
  {
   "cell_type": "code",
   "execution_count": 6,
   "metadata": {},
   "outputs": [],
   "source": [
    "from bayespy.nodes import Gamma\n",
    "tau = Gamma(1e-3, 1e-3)"
   ]
  },
  {
   "cell_type": "code",
   "execution_count": 7,
   "metadata": {},
   "outputs": [],
   "source": [
    "Y = GaussianARD(F, tau)"
   ]
  },
  {
   "cell_type": "markdown",
   "metadata": {},
   "source": [
    "#### Inference"
   ]
  },
  {
   "cell_type": "code",
   "execution_count": 8,
   "metadata": {},
   "outputs": [],
   "source": [
    "Y.observe(y)"
   ]
  },
  {
   "cell_type": "code",
   "execution_count": 9,
   "metadata": {},
   "outputs": [],
   "source": [
    "from bayespy.inference import VB\n",
    "Q = VB(Y, B, tau)"
   ]
  },
  {
   "cell_type": "code",
   "execution_count": 10,
   "metadata": {},
   "outputs": [
    {
     "name": "stdout",
     "output_type": "stream",
     "text": [
      "Iteration 1: loglike=-4.312744e+01 (0.003 seconds)\n",
      "Iteration 2: loglike=-4.258458e+01 (0.003 seconds)\n",
      "Iteration 3: loglike=-4.257494e+01 (0.003 seconds)\n",
      "Iteration 4: loglike=-4.257459e+01 (0.003 seconds)\n",
      "Converged at iteration 4.\n"
     ]
    }
   ],
   "source": [
    "Q.update(repeat=1000)"
   ]
  },
  {
   "cell_type": "markdown",
   "metadata": {},
   "source": [
    "#### Results"
   ]
  },
  {
   "cell_type": "code",
   "execution_count": 11,
   "metadata": {},
   "outputs": [],
   "source": [
    "xh = np.linspace(-5, 15, 100)\n",
    "Xh = np.vstack([xh, np.ones(len(xh))]).T\n",
    "Fh = SumMultiply('i,i', B, Xh)"
   ]
  },
  {
   "cell_type": "code",
   "execution_count": 12,
   "metadata": {},
   "outputs": [
    {
     "name": "stderr",
     "output_type": "stream",
     "text": [
      "C:\\ProgramData\\Anaconda3\\lib\\site-packages\\matplotlib\\cbook\\deprecation.py:107: MatplotlibDeprecationWarning: Adding an axes using the same arguments as a previous axes currently reuses the earlier instance.  In a future version, a new instance will always be created and returned.  Meanwhile, this warning can be suppressed, and the future behavior ensured, by passing a unique label to each axes instance.\n",
      "  warnings.warn(message, mplDeprecation, stacklevel=1)\n"
     ]
    },
    {
     "data": {
      "image/png": "[encoded data removed]",
      "text/plain": [
       "<Figure size 432x288 with 1 Axes>"
      ]
     },
     "metadata": {},
     "output_type": "display_data"
    }
   ],
   "source": [
    "import bayespy.plot as bpplt\n",
    "bpplt.pyplot.figure()\n",
    "bpplt.plot(Fh, x=xh, scale=2)\n",
    "bpplt.plot(y, x=x, color='r', marker='x', linestyle='None')\n",
    "bpplt.plot(k*xh+c, x=xh, color='r');"
   ]
  },
  {
   "cell_type": "markdown",
   "metadata": {},
   "source": [
    "#### Accuracy"
   ]
  },
  {
   "cell_type": "code",
   "execution_count": 13,
   "metadata": {},
   "outputs": [],
   "source": [
    "from bayespy.nodes import GaussianGamma\n",
    "B_tau = GaussianGamma(np.zeros(2), 1e-6*np.identity(2), 1e-3, 1e-3)"
   ]
  },
  {
   "cell_type": "code",
   "execution_count": 14,
   "metadata": {},
   "outputs": [],
   "source": [
    "F_tau = SumMultiply('i,i', B_tau, X)"
   ]
  },
  {
   "cell_type": "code",
   "execution_count": 15,
   "metadata": {},
   "outputs": [],
   "source": [
    "Y = GaussianARD(F_tau, 1)"
   ]
  },
  {
   "cell_type": "code",
   "execution_count": 16,
   "metadata": {},
   "outputs": [
    {
     "name": "stdout",
     "output_type": "stream",
     "text": [
      "Iteration 1: loglike=-4.381545e+01 (0.003 seconds)\n",
      "Iteration 2: loglike=-4.381545e+01 (0.003 seconds)\n",
      "Converged at iteration 2.\n"
     ]
    }
   ],
   "source": [
    "Y.observe(y)\n",
    "Q = VB(Y, B_tau)\n",
    "Q.update(repeat=1000)"
   ]
  },
  {
   "cell_type": "markdown",
   "metadata": {},
   "source": [
    "<br><hr>\n",
    "## 더 알아보고 싶다면\n",
    "- https://www.edwith.org/bayesiandeeplearning"
   ]
  }
 ],
 "metadata": {
  "kernelspec": {
   "display_name": "Python 3",
   "language": "python",
   "name": "python3"
  },
  "language_info": {
   "codemirror_mode": {
    "name": "ipython",
    "version": 3
   },
   "file_extension": ".py",
   "mimetype": "text/x-python",
   "name": "python",
   "nbconvert_exporter": "python",
   "pygments_lexer": "ipython3",
   "version": "3.6.5"
  }
 },
 "nbformat": 4,
 "nbformat_minor": 2
}
